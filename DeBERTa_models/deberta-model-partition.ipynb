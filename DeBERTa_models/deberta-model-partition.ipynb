{
 "cells": [
  {
   "cell_type": "code",
   "execution_count": 1,
   "id": "dc21d5ca",
   "metadata": {
    "_cell_guid": "b1076dfc-b9ad-4769-8c92-a6c4dae69d19",
    "_uuid": "8f2839f25d086af736a60e9eeb907d3b93b6e0e5",
    "execution": {
     "iopub.execute_input": "2024-05-02T17:09:07.698152Z",
     "iopub.status.busy": "2024-05-02T17:09:07.697767Z",
     "iopub.status.idle": "2024-05-02T17:09:08.619666Z",
     "shell.execute_reply": "2024-05-02T17:09:08.618711Z"
    },
    "papermill": {
     "duration": 0.932389,
     "end_time": "2024-05-02T17:09:08.622256",
     "exception": false,
     "start_time": "2024-05-02T17:09:07.689867",
     "status": "completed"
    },
    "tags": []
   },
   "outputs": [
    {
     "name": "stdout",
     "output_type": "stream",
     "text": [
      "/kaggle/input/pii-detection-removal-from-educational-data/sample_submission.csv\n",
      "/kaggle/input/pii-detection-removal-from-educational-data/train.json\n",
      "/kaggle/input/pii-detection-removal-from-educational-data/test.json\n",
      "/kaggle/input/data-exploration/deberta_test.csv\n",
      "/kaggle/input/data-exploration/roberta_test.csv\n",
      "/kaggle/input/data-exploration/roberta_train.csv\n",
      "/kaggle/input/data-exploration/__results__.html\n",
      "/kaggle/input/data-exploration/docs2cut.txt\n",
      "/kaggle/input/data-exploration/deberta_train.csv\n",
      "/kaggle/input/data-exploration/__notebook__.ipynb\n",
      "/kaggle/input/data-exploration/__output__.json\n",
      "/kaggle/input/data-exploration/train.csv\n",
      "/kaggle/input/data-exploration/test.csv\n",
      "/kaggle/input/data-exploration/custom.css\n"
     ]
    }
   ],
   "source": [
    "# This Python 3 environment comes with many helpful analytics libraries installed\n",
    "# It is defined by the kaggle/python Docker image: https://github.com/kaggle/docker-python\n",
    "# For example, here's several helpful packages to load\n",
    "\n",
    "import numpy as np # linear algebra\n",
    "import pandas as pd # data processing, CSV file I/O (e.g. pd.read_csv)\n",
    "\n",
    "# Input data files are available in the read-only \"../input/\" directory\n",
    "# For example, running this (by clicking run or pressing Shift+Enter) will list all files under the input directory\n",
    "\n",
    "import os\n",
    "for dirname, _, filenames in os.walk('/kaggle/input'):\n",
    "    for filename in filenames:\n",
    "        print(os.path.join(dirname, filename))\n",
    "\n",
    "# You can write up to 20GB to the current directory (/kaggle/working/) that gets preserved as output when you create a version using \"Save & Run All\" \n",
    "# You can also write temporary files to /kaggle/temp/, but they won't be saved outside of the current session"
   ]
  },
  {
   "cell_type": "code",
   "execution_count": 2,
   "id": "29026776",
   "metadata": {
    "execution": {
     "iopub.execute_input": "2024-05-02T17:09:08.635622Z",
     "iopub.status.busy": "2024-05-02T17:09:08.635236Z",
     "iopub.status.idle": "2024-05-02T17:09:47.901634Z",
     "shell.execute_reply": "2024-05-02T17:09:47.900823Z"
    },
    "papermill": {
     "duration": 39.275588,
     "end_time": "2024-05-02T17:09:47.904196",
     "exception": false,
     "start_time": "2024-05-02T17:09:08.628608",
     "status": "completed"
    },
    "tags": []
   },
   "outputs": [
    {
     "name": "stderr",
     "output_type": "stream",
     "text": [
      "2024-05-02 17:09:38.478832: E external/local_xla/xla/stream_executor/cuda/cuda_dnn.cc:9261] Unable to register cuDNN factory: Attempting to register factory for plugin cuDNN when one has already been registered\n",
      "2024-05-02 17:09:38.478964: E external/local_xla/xla/stream_executor/cuda/cuda_fft.cc:607] Unable to register cuFFT factory: Attempting to register factory for plugin cuFFT when one has already been registered\n",
      "2024-05-02 17:09:38.664606: E external/local_xla/xla/stream_executor/cuda/cuda_blas.cc:1515] Unable to register cuBLAS factory: Attempting to register factory for plugin cuBLAS when one has already been registered\n"
     ]
    }
   ],
   "source": [
    "!pip install seqeval evaluate -q\n",
    "import json\n",
    "import argparse\n",
    "from itertools import chain\n",
    "from functools import partial\n",
    "import torch\n",
    "from transformers import AutoTokenizer,AutoModelForTokenClassification,Trainer, TrainingArguments, AutoConfig, DataCollatorForTokenClassification, TrainerCallback\n",
    "import evaluate\n",
    "from datasets import Dataset, features\n",
    "import copy\n",
    "from ast import literal_eval\n",
    "import ast"
   ]
  },
  {
   "cell_type": "markdown",
   "id": "7fa82a83",
   "metadata": {
    "papermill": {
     "duration": 0.005488,
     "end_time": "2024-05-02T17:09:47.915742",
     "exception": false,
     "start_time": "2024-05-02T17:09:47.910254",
     "status": "completed"
    },
    "tags": []
   },
   "source": [
    "# Prepararations for Model"
   ]
  },
  {
   "cell_type": "code",
   "execution_count": 3,
   "id": "52ef469a",
   "metadata": {
    "execution": {
     "iopub.execute_input": "2024-05-02T17:09:47.928740Z",
     "iopub.status.busy": "2024-05-02T17:09:47.928146Z",
     "iopub.status.idle": "2024-05-02T17:09:47.932535Z",
     "shell.execute_reply": "2024-05-02T17:09:47.931656Z"
    },
    "papermill": {
     "duration": 0.01288,
     "end_time": "2024-05-02T17:09:47.934392",
     "exception": false,
     "start_time": "2024-05-02T17:09:47.921512",
     "status": "completed"
    },
    "tags": []
   },
   "outputs": [],
   "source": [
    "# Model Settings from Hugging Face: Path, Length, Output Directory\n",
    "TRAINING_MODEL_PATH = \"microsoft/deberta-v3-base\"\n",
    "TRAINING_MAX_LENGTH = 1024\n",
    "OUTPUT_DIR = \"output\""
   ]
  },
  {
   "cell_type": "code",
   "execution_count": 4,
   "id": "a69b1770",
   "metadata": {
    "execution": {
     "iopub.execute_input": "2024-05-02T17:09:47.947471Z",
     "iopub.status.busy": "2024-05-02T17:09:47.946677Z",
     "iopub.status.idle": "2024-05-02T17:09:53.300354Z",
     "shell.execute_reply": "2024-05-02T17:09:53.299298Z"
    },
    "papermill": {
     "duration": 5.362166,
     "end_time": "2024-05-02T17:09:53.302442",
     "exception": false,
     "start_time": "2024-05-02T17:09:47.940276",
     "status": "completed"
    },
    "tags": []
   },
   "outputs": [
    {
     "name": "stdout",
     "output_type": "stream",
     "text": [
      "Index(['document', 'input_ids', 'attention_mask', 'offset_mapping', 'labels'], dtype='object')\n"
     ]
    }
   ],
   "source": [
    "train = pd.read_csv(open('/kaggle/input/data-exploration/deberta_train.csv'))\n",
    "test = pd.read_csv(open('/kaggle/input/data-exploration/deberta_test.csv'))\n",
    "train = train.drop(['full_text', 'tokens', 'trailing_whitespace', 'provided_labels', 'B-ID_NUM', 'B-NAME_STUDENT', 'B-URL_PERSONAL', 'I-NAME_STUDENT', 'B-EMAIL'], axis = 1)\n",
    "test = test.drop(['full_text', 'tokens', 'trailing_whitespace', 'provided_labels', 'B-ID_NUM', 'B-NAME_STUDENT', 'B-URL_PERSONAL', 'I-NAME_STUDENT', 'B-EMAIL'], axis = 1)\n",
    "print(train.columns)"
   ]
  },
  {
   "cell_type": "code",
   "execution_count": 5,
   "id": "eb2464b9",
   "metadata": {
    "execution": {
     "iopub.execute_input": "2024-05-02T17:09:53.316341Z",
     "iopub.status.busy": "2024-05-02T17:09:53.316038Z",
     "iopub.status.idle": "2024-05-02T17:11:12.063860Z",
     "shell.execute_reply": "2024-05-02T17:11:12.062838Z"
    },
    "papermill": {
     "duration": 78.757818,
     "end_time": "2024-05-02T17:11:12.066481",
     "exception": false,
     "start_time": "2024-05-02T17:09:53.308663",
     "status": "completed"
    },
    "tags": []
   },
   "outputs": [],
   "source": [
    "train['input_ids'] = train['input_ids'].apply(literal_eval)\n",
    "train['attention_mask'] = train['attention_mask'].apply(literal_eval)\n",
    "train['offset_mapping'] = train['offset_mapping'].apply(literal_eval)\n",
    "train['labels'] = train['labels'].apply(literal_eval)\n",
    "test['input_ids'] = test['input_ids'].apply(literal_eval)\n",
    "test['attention_mask'] = test['attention_mask'].apply(literal_eval)\n",
    "test['offset_mapping'] = test['offset_mapping'].apply(literal_eval)\n",
    "test['labels'] = test['labels'].apply(literal_eval)"
   ]
  },
  {
   "cell_type": "code",
   "execution_count": 6,
   "id": "27b5ae0d",
   "metadata": {
    "execution": {
     "iopub.execute_input": "2024-05-02T17:11:12.080842Z",
     "iopub.status.busy": "2024-05-02T17:11:12.080279Z",
     "iopub.status.idle": "2024-05-02T17:11:15.801689Z",
     "shell.execute_reply": "2024-05-02T17:11:15.800737Z"
    },
    "papermill": {
     "duration": 3.730799,
     "end_time": "2024-05-02T17:11:15.803945",
     "exception": false,
     "start_time": "2024-05-02T17:11:12.073146",
     "status": "completed"
    },
    "tags": []
   },
   "outputs": [
    {
     "name": "stdout",
     "output_type": "stream",
     "text": [
      "Number of docs removed:  2931\n",
      "Length of training data:  5695\n",
      "Length of testing data:  1889\n",
      "After downsampling length of training data:  3794\n",
      "After downsampling length of testing data:  1263\n"
     ]
    }
   ],
   "source": [
    "# DOWNSAMPLING: COMMENT ALL IF NOT DOWNSAMPLING\n",
    "\n",
    "file = open(\"/kaggle/input/data-exploration/docs2cut.txt\",\"r\")\n",
    "downsample_docs = [int(i) for i in file.read().split('\\n')[:-1]]\n",
    "print(\"Number of docs removed: \", len(downsample_docs))\n",
    "\n",
    "print(\"Length of training data: \", len(train))\n",
    "print(\"Length of testing data: \", len(test))\n",
    "\n",
    "for d in downsample_docs: \n",
    "    train = train[train.document != d]\n",
    "    test = test[test.document != d]\n",
    "    \n",
    "print(\"After downsampling length of training data: \", len(train))\n",
    "print(\"After downsampling length of testing data: \", len(test))"
   ]
  },
  {
   "cell_type": "code",
   "execution_count": 7,
   "id": "8c00496f",
   "metadata": {
    "execution": {
     "iopub.execute_input": "2024-05-02T17:11:15.817358Z",
     "iopub.status.busy": "2024-05-02T17:11:15.817063Z",
     "iopub.status.idle": "2024-05-02T17:11:22.499139Z",
     "shell.execute_reply": "2024-05-02T17:11:22.498313Z"
    },
    "papermill": {
     "duration": 6.6914,
     "end_time": "2024-05-02T17:11:22.501514",
     "exception": false,
     "start_time": "2024-05-02T17:11:15.810114",
     "status": "completed"
    },
    "tags": []
   },
   "outputs": [],
   "source": [
    "ds_train = Dataset.from_pandas(train)\n",
    "ds_test = Dataset.from_pandas(test)\n",
    "\n",
    "# For final model\n",
    "all_data = pd.concat([train, test], ignore_index=True, sort=False)\n",
    "ds = Dataset.from_pandas(all_data)"
   ]
  },
  {
   "cell_type": "code",
   "execution_count": 8,
   "id": "c6fb3025",
   "metadata": {
    "execution": {
     "iopub.execute_input": "2024-05-02T17:11:22.515407Z",
     "iopub.status.busy": "2024-05-02T17:11:22.515103Z",
     "iopub.status.idle": "2024-05-02T17:11:22.520998Z",
     "shell.execute_reply": "2024-05-02T17:11:22.520144Z"
    },
    "papermill": {
     "duration": 0.015282,
     "end_time": "2024-05-02T17:11:22.523009",
     "exception": false,
     "start_time": "2024-05-02T17:11:22.507727",
     "status": "completed"
    },
    "tags": []
   },
   "outputs": [
    {
     "name": "stdout",
     "output_type": "stream",
     "text": [
      "['B-EMAIL', 'B-ID_NUM', 'B-NAME_STUDENT', 'B-PHONE_NUM', 'B-STREET_ADDRESS', 'B-URL_PERSONAL', 'B-USERNAME', 'I-ID_NUM', 'I-NAME_STUDENT', 'I-PHONE_NUM', 'I-STREET_ADDRESS', 'I-URL_PERSONAL', 'O']\n"
     ]
    }
   ],
   "source": [
    "# Obtain all possible labels, along with a map between them and their ids\n",
    "LABELS = ['B-EMAIL', 'B-ID_NUM', 'B-NAME_STUDENT', 'B-PHONE_NUM', 'B-STREET_ADDRESS', \n",
    "          'B-URL_PERSONAL', 'B-USERNAME', 'I-ID_NUM', 'I-NAME_STUDENT', 'I-PHONE_NUM', \n",
    "          'I-STREET_ADDRESS', 'I-URL_PERSONAL', 'O']\n",
    "\n",
    "label2id = {l:i for i, l in enumerate(LABELS)}\n",
    "id2label = {i:l for i, l in enumerate(LABELS)}\n",
    "print(LABELS)"
   ]
  },
  {
   "cell_type": "markdown",
   "id": "5eb2801a",
   "metadata": {
    "papermill": {
     "duration": 0.005787,
     "end_time": "2024-05-02T17:11:22.535726",
     "exception": false,
     "start_time": "2024-05-02T17:11:22.529939",
     "status": "completed"
    },
    "tags": []
   },
   "source": [
    "# Metrics\n"
   ]
  },
  {
   "cell_type": "code",
   "execution_count": 9,
   "id": "76009c8c",
   "metadata": {
    "execution": {
     "iopub.execute_input": "2024-05-02T17:11:22.548893Z",
     "iopub.status.busy": "2024-05-02T17:11:22.548612Z",
     "iopub.status.idle": "2024-05-02T17:11:22.561061Z",
     "shell.execute_reply": "2024-05-02T17:11:22.560230Z"
    },
    "papermill": {
     "duration": 0.021281,
     "end_time": "2024-05-02T17:11:22.562991",
     "exception": false,
     "start_time": "2024-05-02T17:11:22.541710",
     "status": "completed"
    },
    "tags": []
   },
   "outputs": [],
   "source": [
    "# METRICS\n",
    "\n",
    "# Investigate adding some metrics to compute finer accuracies\n",
    "\n",
    "# now let's define the metrics we care about \n",
    "from seqeval.metrics import recall_score, precision_score\n",
    "\n",
    "def compute_metrics(p, all_labels):\n",
    "    predictions, labels = p\n",
    "    predictions = np.argmax(predictions, axis=2)\n",
    "\n",
    "    # Remove ignored index (special tokens)\n",
    "    true_predictions = [\n",
    "        [all_labels[p] for (p, l) in zip(prediction, label) if l != -100]\n",
    "        for prediction, label in zip(predictions, labels)\n",
    "    ]\n",
    "    true_labels = [\n",
    "        [all_labels[l] for (p, l) in zip(prediction, label) if l != -100]\n",
    "        for prediction, label in zip(predictions, labels)\n",
    "    ]\n",
    "    \n",
    "    recall = recall_score(true_labels, true_predictions)\n",
    "    precision = precision_score(true_labels, true_predictions)\n",
    "    f5_score = (1 + 5*5) * recall * precision / (5*5*precision + recall)\n",
    "    \n",
    "    results = {\n",
    "        'recall': recall,\n",
    "        'precision': precision,\n",
    "        'f5': f5_score\n",
    "    }\n",
    "    return results"
   ]
  },
  {
   "cell_type": "markdown",
   "id": "3f408e6f",
   "metadata": {
    "papermill": {
     "duration": 0.005913,
     "end_time": "2024-05-02T17:11:22.574990",
     "exception": false,
     "start_time": "2024-05-02T17:11:22.569077",
     "status": "completed"
    },
    "tags": []
   },
   "source": [
    "# Custom Loss\n"
   ]
  },
  {
   "cell_type": "code",
   "execution_count": 10,
   "id": "eef6e507",
   "metadata": {
    "execution": {
     "iopub.execute_input": "2024-05-02T17:11:22.588616Z",
     "iopub.status.busy": "2024-05-02T17:11:22.588163Z",
     "iopub.status.idle": "2024-05-02T17:11:23.217197Z",
     "shell.execute_reply": "2024-05-02T17:11:23.216041Z"
    },
    "papermill": {
     "duration": 0.638108,
     "end_time": "2024-05-02T17:11:23.219376",
     "exception": false,
     "start_time": "2024-05-02T17:11:22.581268",
     "status": "completed"
    },
    "tags": []
   },
   "outputs": [
    {
     "name": "stdout",
     "output_type": "stream",
     "text": [
      "weights: tensor([1.0000, 1.0000, 1.0000, 1.0000, 1.0000, 1.0000, 1.0000, 1.0000, 1.0000,\n",
      "        1.0000, 1.0000, 1.0000, 0.0500], device='cuda:0')\n"
     ]
    }
   ],
   "source": [
    "# Implement custom loss function \n",
    "import torch.nn.functional as F\n",
    "\n",
    "penalty = .05 # raise this to penalize guesses of PII for non-PII labels more\n",
    "wts = torch.ones(len(LABELS))\n",
    "wts[-1] = penalty # weight last class\n",
    "wts = wts.to(device='cuda')\n",
    "print('weights:', wts)\n",
    "\n",
    "def custom_loss(preds, trues, epsilon=1):\n",
    "    \"\"\"\n",
    "    cross-entropy loss, but if a token is NOT PII, the loss for the \n",
    "    corresponding prediction, instead of being -logsoftmax(logit), \n",
    "    is equal to epsilon. \n",
    "    \n",
    "    This function will be applied to (logits, labels), i.e. we will\n",
    "    call custom_loss(logits, labels) in the training step; logits will \n",
    "    have shape bs x max_seq_len x num_labels, labels will have shape \n",
    "    bs x max_seq_len. \n",
    "    \n",
    "    It seems we can use just the built-in 'weight' parameter passed\n",
    "    to the cross_entropy function\n",
    "    \"\"\"\n",
    "    loss = F.cross_entropy(preds.permute(0,2,1), trues, \n",
    "                           weight=wts)\n",
    "    \n",
    "    return loss\n",
    "\n",
    "# subclass Trainer \n",
    "class CustomTrainer(Trainer):\n",
    "    def __init__(self, *args, **kwargs):\n",
    "        super().__init__(*args, **kwargs)\n",
    "        \n",
    "    def compute_loss(self, model, inputs, return_outputs=False):\n",
    "        # inputs is a dict with keys 'input_ids', a tensor representing the \n",
    "        # input sequence as a str of ints which are the vocabulary indices; \n",
    "        # token_type_ids and attention_mask, which seem irrelevant for the \n",
    "        # compute_loss function; and 'labels' which is the true values       \n",
    "        labels = inputs.pop('labels') # removes labels from inputs and assigns to new variable\n",
    "        outputs = model(**inputs)\n",
    "        logits = outputs[0]\n",
    "        loss = custom_loss(logits, labels)\n",
    "        \n",
    "        return (loss, outputs) if return_outputs else loss"
   ]
  },
  {
   "cell_type": "markdown",
   "id": "dfc7cfbd",
   "metadata": {
    "papermill": {
     "duration": 0.006335,
     "end_time": "2024-05-02T17:11:23.232777",
     "exception": false,
     "start_time": "2024-05-02T17:11:23.226442",
     "status": "completed"
    },
    "tags": []
   },
   "source": [
    "# Trainer Class"
   ]
  },
  {
   "cell_type": "code",
   "execution_count": 11,
   "id": "b9061a25",
   "metadata": {
    "execution": {
     "iopub.execute_input": "2024-05-02T17:11:23.247572Z",
     "iopub.status.busy": "2024-05-02T17:11:23.247264Z",
     "iopub.status.idle": "2024-05-02T17:11:29.524789Z",
     "shell.execute_reply": "2024-05-02T17:11:29.523972Z"
    },
    "papermill": {
     "duration": 6.287452,
     "end_time": "2024-05-02T17:11:29.527017",
     "exception": false,
     "start_time": "2024-05-02T17:11:23.239565",
     "status": "completed"
    },
    "tags": []
   },
   "outputs": [
    {
     "data": {
      "application/vnd.jupyter.widget-view+json": {
       "model_id": "778e578d0d214962b423e230233edc08",
       "version_major": 2,
       "version_minor": 0
      },
      "text/plain": [
       "tokenizer_config.json:   0%|          | 0.00/52.0 [00:00<?, ?B/s]"
      ]
     },
     "metadata": {},
     "output_type": "display_data"
    },
    {
     "data": {
      "application/vnd.jupyter.widget-view+json": {
       "model_id": "251401da2b804894872c81f1f6ce1af9",
       "version_major": 2,
       "version_minor": 0
      },
      "text/plain": [
       "config.json:   0%|          | 0.00/579 [00:00<?, ?B/s]"
      ]
     },
     "metadata": {},
     "output_type": "display_data"
    },
    {
     "data": {
      "application/vnd.jupyter.widget-view+json": {
       "model_id": "c9fdc78dd07b45789ee013668916a771",
       "version_major": 2,
       "version_minor": 0
      },
      "text/plain": [
       "spm.model:   0%|          | 0.00/2.46M [00:00<?, ?B/s]"
      ]
     },
     "metadata": {},
     "output_type": "display_data"
    },
    {
     "name": "stderr",
     "output_type": "stream",
     "text": [
      "/opt/conda/lib/python3.10/site-packages/transformers/convert_slow_tokenizer.py:550: UserWarning: The sentencepiece tokenizer that you are converting to a fast tokenizer uses the byte fallback option which is not implemented in the fast tokenizers. In practice this means that the fast version of the tokenizer can produce unknown tokens whereas the sentencepiece version would have converted these unknown tokens into a sequence of byte tokens matching the original piece of text.\n",
      "  warnings.warn(\n"
     ]
    },
    {
     "data": {
      "application/vnd.jupyter.widget-view+json": {
       "model_id": "b93939718db9462785283959bb81fd0a",
       "version_major": 2,
       "version_minor": 0
      },
      "text/plain": [
       "pytorch_model.bin:   0%|          | 0.00/371M [00:00<?, ?B/s]"
      ]
     },
     "metadata": {},
     "output_type": "display_data"
    },
    {
     "name": "stderr",
     "output_type": "stream",
     "text": [
      "/opt/conda/lib/python3.10/site-packages/torch/_utils.py:831: UserWarning: TypedStorage is deprecated. It will be removed in the future and UntypedStorage will be the only storage class. This should only matter to you if you are using storages directly.  To access UntypedStorage directly, use tensor.untyped_storage() instead of tensor.storage()\n",
      "  return self.fget.__get__(instance, owner)()\n",
      "Some weights of DebertaV2ForTokenClassification were not initialized from the model checkpoint at microsoft/deberta-v3-base and are newly initialized: ['classifier.bias', 'classifier.weight']\n",
      "You should probably TRAIN this model on a down-stream task to be able to use it for predictions and inference.\n",
      "/opt/conda/lib/python3.10/site-packages/accelerate/accelerator.py:436: FutureWarning: Passing the following arguments to `Accelerator` is deprecated and will be removed in version 1.0 of Accelerate: dict_keys(['dispatch_batches', 'split_batches', 'even_batches', 'use_seedable_sampler']). Please pass an `accelerate.DataLoaderConfiguration` instead: \n",
      "dataloader_config = DataLoaderConfiguration(dispatch_batches=None, split_batches=False, even_batches=True, use_seedable_sampler=True)\n",
      "  warnings.warn(\n"
     ]
    }
   ],
   "source": [
    "# COLLATE: For batches\n",
    "tokenizer = AutoTokenizer.from_pretrained(TRAINING_MODEL_PATH)\n",
    "collator = DataCollatorForTokenClassification(tokenizer, pad_to_multiple_of=16)\n",
    "\n",
    "# training args, args setup\n",
    "lr, epochs = 2e-5, 3\n",
    "bs, wd = 4, 0.01\n",
    "\n",
    "# model import and training \n",
    "# define model\n",
    "model = AutoModelForTokenClassification.from_pretrained(\n",
    "    TRAINING_MODEL_PATH,\n",
    "    num_labels=len(LABELS),\n",
    "    id2label=id2label,\n",
    "    label2id=label2id,\n",
    "    ignore_mismatched_sizes=True\n",
    ")\n",
    "\n",
    "class CustomCallback(TrainerCallback):\n",
    "    \n",
    "    def __init__(self, trainer) -> None:\n",
    "        super().__init__()\n",
    "        self._trainer = trainer\n",
    "    \n",
    "    def on_epoch_end(self, args, state, control, **kwargs):\n",
    "        if control.should_evaluate:\n",
    "            control_copy = copy.deepcopy(control)\n",
    "            self._trainer.evaluate(eval_dataset=self._trainer.train_dataset, metric_key_prefix=\"train\")\n",
    "            return control_copy\n",
    "\n",
    "args = TrainingArguments(\n",
    "    output_dir=OUTPUT_DIR, \n",
    "    fp16=True,\n",
    "    learning_rate=lr,\n",
    "    num_train_epochs=epochs,\n",
    "    per_device_train_batch_size=bs,\n",
    "    gradient_accumulation_steps=2,\n",
    "    report_to=\"none\",\n",
    "    evaluation_strategy=\"no\",\n",
    "    logging_strategy=\"epoch\",\n",
    "    do_eval=False,\n",
    "    save_total_limit=1,\n",
    "    logging_steps=20,\n",
    "    lr_scheduler_type='cosine',\n",
    "    metric_for_best_model=\"f5\",\n",
    "    greater_is_better=True,\n",
    "    warmup_ratio=0.1,\n",
    "    weight_decay=wd\n",
    ")\n",
    "\n",
    "trainer = CustomTrainer(\n",
    "    model=model, \n",
    "    args=args, \n",
    "    train_dataset = ds,\n",
    "    data_collator=collator, \n",
    "    tokenizer=tokenizer,\n",
    "    compute_metrics=partial(compute_metrics, all_labels=LABELS),\n",
    ")\n",
    "\n",
    "trainer.add_callback(CustomCallback(trainer)) "
   ]
  },
  {
   "cell_type": "code",
   "execution_count": 12,
   "id": "3ecf0f90",
   "metadata": {
    "execution": {
     "iopub.execute_input": "2024-05-02T17:11:29.544566Z",
     "iopub.status.busy": "2024-05-02T17:11:29.543863Z",
     "iopub.status.idle": "2024-05-02T17:59:02.343957Z",
     "shell.execute_reply": "2024-05-02T17:59:02.342978Z"
    },
    "papermill": {
     "duration": 2852.810857,
     "end_time": "2024-05-02T17:59:02.345990",
     "exception": false,
     "start_time": "2024-05-02T17:11:29.535133",
     "status": "completed"
    },
    "tags": []
   },
   "outputs": [
    {
     "data": {
      "text/html": [
       "\n",
       "    <div>\n",
       "      \n",
       "      <progress value='948' max='948' style='width:300px; height:20px; vertical-align: middle;'></progress>\n",
       "      [948/948 47:26, Epoch 2/3]\n",
       "    </div>\n",
       "    <table border=\"1\" class=\"dataframe\">\n",
       "  <thead>\n",
       " <tr style=\"text-align: left;\">\n",
       "      <th>Step</th>\n",
       "      <th>Training Loss</th>\n",
       "    </tr>\n",
       "  </thead>\n",
       "  <tbody>\n",
       "    <tr>\n",
       "      <td>316</td>\n",
       "      <td>0.345400</td>\n",
       "    </tr>\n",
       "    <tr>\n",
       "      <td>633</td>\n",
       "      <td>0.019200</td>\n",
       "    </tr>\n",
       "    <tr>\n",
       "      <td>948</td>\n",
       "      <td>0.012700</td>\n",
       "    </tr>\n",
       "  </tbody>\n",
       "</table><p>"
      ],
      "text/plain": [
       "<IPython.core.display.HTML object>"
      ]
     },
     "metadata": {},
     "output_type": "display_data"
    }
   ],
   "source": [
    "train_result = trainer.train()"
   ]
  },
  {
   "cell_type": "code",
   "execution_count": 13,
   "id": "e6642f2d",
   "metadata": {
    "execution": {
     "iopub.execute_input": "2024-05-02T17:59:02.363067Z",
     "iopub.status.busy": "2024-05-02T17:59:02.362733Z",
     "iopub.status.idle": "2024-05-02T17:59:02.369164Z",
     "shell.execute_reply": "2024-05-02T17:59:02.368333Z"
    },
    "papermill": {
     "duration": 0.016984,
     "end_time": "2024-05-02T17:59:02.371158",
     "exception": false,
     "start_time": "2024-05-02T17:59:02.354174",
     "status": "completed"
    },
    "tags": []
   },
   "outputs": [
    {
     "data": {
      "text/plain": [
       "[{'loss': 0.3454,\n",
       "  'grad_norm': 260794.1875,\n",
       "  'learning_rate': 1.6866384115072917e-05,\n",
       "  'epoch': 1.0,\n",
       "  'step': 316},\n",
       " {'loss': 0.0192,\n",
       "  'grad_norm': 3.3650460243225098,\n",
       "  'learning_rate': 6.007912624571963e-06,\n",
       "  'epoch': 2.0,\n",
       "  'step': 633},\n",
       " {'loss': 0.0127,\n",
       "  'grad_norm': 44931.6796875,\n",
       "  'learning_rate': 0.0,\n",
       "  'epoch': 3.0,\n",
       "  'step': 948},\n",
       " {'train_runtime': 2852.381,\n",
       "  'train_samples_per_second': 5.319,\n",
       "  'train_steps_per_second': 0.332,\n",
       "  'total_flos': 7548615217992288.0,\n",
       "  'train_loss': 0.12575222470086336,\n",
       "  'epoch': 3.0,\n",
       "  'step': 948}]"
      ]
     },
     "execution_count": 13,
     "metadata": {},
     "output_type": "execute_result"
    }
   ],
   "source": [
    "trainer.state.log_history"
   ]
  },
  {
   "cell_type": "code",
   "execution_count": 14,
   "id": "cc9aaf59",
   "metadata": {
    "execution": {
     "iopub.execute_input": "2024-05-02T17:59:02.387708Z",
     "iopub.status.busy": "2024-05-02T17:59:02.387430Z",
     "iopub.status.idle": "2024-05-02T17:59:03.969301Z",
     "shell.execute_reply": "2024-05-02T17:59:03.968387Z"
    },
    "papermill": {
     "duration": 1.592663,
     "end_time": "2024-05-02T17:59:03.971357",
     "exception": false,
     "start_time": "2024-05-02T17:59:02.378694",
     "status": "completed"
    },
    "tags": []
   },
   "outputs": [
    {
     "data": {
      "text/plain": [
       "('deberta_partition/tokenizer_config.json',\n",
       " 'deberta_partition/special_tokens_map.json',\n",
       " 'deberta_partition/spm.model',\n",
       " 'deberta_partition/added_tokens.json',\n",
       " 'deberta_partition/tokenizer.json')"
      ]
     },
     "execution_count": 14,
     "metadata": {},
     "output_type": "execute_result"
    }
   ],
   "source": [
    "#trainer.save_model(\"roberta_partition_downsample\")\n",
    "#tokenizer.save_pretrained(\"roberta_partition_downsample\")\n",
    "\n",
    "trainer.save_model(\"deberta_partition\")\n",
    "tokenizer.save_pretrained(\"deberta_partition\")"
   ]
  },
  {
   "cell_type": "code",
   "execution_count": 15,
   "id": "2fee89c8",
   "metadata": {
    "execution": {
     "iopub.execute_input": "2024-05-02T17:59:03.988365Z",
     "iopub.status.busy": "2024-05-02T17:59:03.988044Z",
     "iopub.status.idle": "2024-05-02T17:59:03.991814Z",
     "shell.execute_reply": "2024-05-02T17:59:03.991058Z"
    },
    "papermill": {
     "duration": 0.014421,
     "end_time": "2024-05-02T17:59:03.993690",
     "exception": false,
     "start_time": "2024-05-02T17:59:03.979269",
     "status": "completed"
    },
    "tags": []
   },
   "outputs": [],
   "source": [
    "#df_log_history = pd.DataFrame(trainer.state.log_history)\n",
    "#df_log_history.to_csv(\"downsamplepenalty.07epoch6.csv\", index=False)"
   ]
  },
  {
   "cell_type": "code",
   "execution_count": null,
   "id": "07ed9147",
   "metadata": {
    "papermill": {
     "duration": 0.007573,
     "end_time": "2024-05-02T17:59:04.009104",
     "exception": false,
     "start_time": "2024-05-02T17:59:04.001531",
     "status": "completed"
    },
    "tags": []
   },
   "outputs": [],
   "source": []
  },
  {
   "cell_type": "code",
   "execution_count": null,
   "id": "b7ab4f2e",
   "metadata": {
    "papermill": {
     "duration": 0.007467,
     "end_time": "2024-05-02T17:59:04.024364",
     "exception": false,
     "start_time": "2024-05-02T17:59:04.016897",
     "status": "completed"
    },
    "tags": []
   },
   "outputs": [],
   "source": []
  }
 ],
 "metadata": {
  "kaggle": {
   "accelerator": "nvidiaTeslaT4",
   "dataSources": [
    {
     "databundleVersionId": 7500999,
     "sourceId": 66653,
     "sourceType": "competition"
    },
    {
     "sourceId": 175298813,
     "sourceType": "kernelVersion"
    }
   ],
   "dockerImageVersionId": 30699,
   "isGpuEnabled": true,
   "isInternetEnabled": true,
   "language": "python",
   "sourceType": "notebook"
  },
  "kernelspec": {
   "display_name": "Python 3",
   "language": "python",
   "name": "python3"
  },
  "language_info": {
   "codemirror_mode": {
    "name": "ipython",
    "version": 3
   },
   "file_extension": ".py",
   "mimetype": "text/x-python",
   "name": "python",
   "nbconvert_exporter": "python",
   "pygments_lexer": "ipython3",
   "version": "3.10.13"
  },
  "papermill": {
   "default_parameters": {},
   "duration": 3002.84773,
   "end_time": "2024-05-02T17:59:07.388252",
   "environment_variables": {},
   "exception": null,
   "input_path": "__notebook__.ipynb",
   "output_path": "__notebook__.ipynb",
   "parameters": {},
   "start_time": "2024-05-02T17:09:04.540522",
   "version": "2.5.0"
  },
  "widgets": {
   "application/vnd.jupyter.widget-state+json": {
    "state": {
     "004368f3ca84412784ab45cb59eea6e2": {
      "model_module": "@jupyter-widgets/controls",
      "model_module_version": "1.5.0",
      "model_name": "HTMLModel",
      "state": {
       "_dom_classes": [],
       "_model_module": "@jupyter-widgets/controls",
       "_model_module_version": "1.5.0",
       "_model_name": "HTMLModel",
       "_view_count": null,
       "_view_module": "@jupyter-widgets/controls",
       "_view_module_version": "1.5.0",
       "_view_name": "HTMLView",
       "description": "",
       "description_tooltip": null,
       "layout": "IPY_MODEL_b5bf0da5607b45a691a748559d9d9bde",
       "placeholder": "​",
       "style": "IPY_MODEL_c4a8c7fb4cc94701a5968976fb5bc407",
       "value": " 371M/371M [00:01&lt;00:00, 210MB/s]"
      }
     },
     "060106e2c27e4a50beff18e28250b28f": {
      "model_module": "@jupyter-widgets/base",
      "model_module_version": "1.2.0",
      "model_name": "LayoutModel",
      "state": {
       "_model_module": "@jupyter-widgets/base",
       "_model_module_version": "1.2.0",
       "_model_name": "LayoutModel",
       "_view_count": null,
       "_view_module": "@jupyter-widgets/base",
       "_view_module_version": "1.2.0",
       "_view_name": "LayoutView",
       "align_content": null,
       "align_items": null,
       "align_self": null,
       "border": null,
       "bottom": null,
       "display": null,
       "flex": null,
       "flex_flow": null,
       "grid_area": null,
       "grid_auto_columns": null,
       "grid_auto_flow": null,
       "grid_auto_rows": null,
       "grid_column": null,
       "grid_gap": null,
       "grid_row": null,
       "grid_template_areas": null,
       "grid_template_columns": null,
       "grid_template_rows": null,
       "height": null,
       "justify_content": null,
       "justify_items": null,
       "left": null,
       "margin": null,
       "max_height": null,
       "max_width": null,
       "min_height": null,
       "min_width": null,
       "object_fit": null,
       "object_position": null,
       "order": null,
       "overflow": null,
       "overflow_x": null,
       "overflow_y": null,
       "padding": null,
       "right": null,
       "top": null,
       "visibility": null,
       "width": null
      }
     },
     "0710e7c9ec6c4cdf9fd9eaeb63fe59bd": {
      "model_module": "@jupyter-widgets/controls",
      "model_module_version": "1.5.0",
      "model_name": "ProgressStyleModel",
      "state": {
       "_model_module": "@jupyter-widgets/controls",
       "_model_module_version": "1.5.0",
       "_model_name": "ProgressStyleModel",
       "_view_count": null,
       "_view_module": "@jupyter-widgets/base",
       "_view_module_version": "1.2.0",
       "_view_name": "StyleView",
       "bar_color": null,
       "description_width": ""
      }
     },
     "0df1716e01c14ceca39e0760fdb8c202": {
      "model_module": "@jupyter-widgets/controls",
      "model_module_version": "1.5.0",
      "model_name": "HTMLModel",
      "state": {
       "_dom_classes": [],
       "_model_module": "@jupyter-widgets/controls",
       "_model_module_version": "1.5.0",
       "_model_name": "HTMLModel",
       "_view_count": null,
       "_view_module": "@jupyter-widgets/controls",
       "_view_module_version": "1.5.0",
       "_view_name": "HTMLView",
       "description": "",
       "description_tooltip": null,
       "layout": "IPY_MODEL_ea7812cd90964247ab97d3087b102c13",
       "placeholder": "​",
       "style": "IPY_MODEL_cb3a996107ac4e179e61c324b799b331",
       "value": "config.json: 100%"
      }
     },
     "0f22b592909b4f58b2762e1cd5eaff10": {
      "model_module": "@jupyter-widgets/base",
      "model_module_version": "1.2.0",
      "model_name": "LayoutModel",
      "state": {
       "_model_module": "@jupyter-widgets/base",
       "_model_module_version": "1.2.0",
       "_model_name": "LayoutModel",
       "_view_count": null,
       "_view_module": "@jupyter-widgets/base",
       "_view_module_version": "1.2.0",
       "_view_name": "LayoutView",
       "align_content": null,
       "align_items": null,
       "align_self": null,
       "border": null,
       "bottom": null,
       "display": null,
       "flex": null,
       "flex_flow": null,
       "grid_area": null,
       "grid_auto_columns": null,
       "grid_auto_flow": null,
       "grid_auto_rows": null,
       "grid_column": null,
       "grid_gap": null,
       "grid_row": null,
       "grid_template_areas": null,
       "grid_template_columns": null,
       "grid_template_rows": null,
       "height": null,
       "justify_content": null,
       "justify_items": null,
       "left": null,
       "margin": null,
       "max_height": null,
       "max_width": null,
       "min_height": null,
       "min_width": null,
       "object_fit": null,
       "object_position": null,
       "order": null,
       "overflow": null,
       "overflow_x": null,
       "overflow_y": null,
       "padding": null,
       "right": null,
       "top": null,
       "visibility": null,
       "width": null
      }
     },
     "1505bdb63ddf45dbb3b42e249a29c4e3": {
      "model_module": "@jupyter-widgets/base",
      "model_module_version": "1.2.0",
      "model_name": "LayoutModel",
      "state": {
       "_model_module": "@jupyter-widgets/base",
       "_model_module_version": "1.2.0",
       "_model_name": "LayoutModel",
       "_view_count": null,
       "_view_module": "@jupyter-widgets/base",
       "_view_module_version": "1.2.0",
       "_view_name": "LayoutView",
       "align_content": null,
       "align_items": null,
       "align_self": null,
       "border": null,
       "bottom": null,
       "display": null,
       "flex": null,
       "flex_flow": null,
       "grid_area": null,
       "grid_auto_columns": null,
       "grid_auto_flow": null,
       "grid_auto_rows": null,
       "grid_column": null,
       "grid_gap": null,
       "grid_row": null,
       "grid_template_areas": null,
       "grid_template_columns": null,
       "grid_template_rows": null,
       "height": null,
       "justify_content": null,
       "justify_items": null,
       "left": null,
       "margin": null,
       "max_height": null,
       "max_width": null,
       "min_height": null,
       "min_width": null,
       "object_fit": null,
       "object_position": null,
       "order": null,
       "overflow": null,
       "overflow_x": null,
       "overflow_y": null,
       "padding": null,
       "right": null,
       "top": null,
       "visibility": null,
       "width": null
      }
     },
     "159289d9a7ac4450be92022d7b3021a6": {
      "model_module": "@jupyter-widgets/base",
      "model_module_version": "1.2.0",
      "model_name": "LayoutModel",
      "state": {
       "_model_module": "@jupyter-widgets/base",
       "_model_module_version": "1.2.0",
       "_model_name": "LayoutModel",
       "_view_count": null,
       "_view_module": "@jupyter-widgets/base",
       "_view_module_version": "1.2.0",
       "_view_name": "LayoutView",
       "align_content": null,
       "align_items": null,
       "align_self": null,
       "border": null,
       "bottom": null,
       "display": null,
       "flex": null,
       "flex_flow": null,
       "grid_area": null,
       "grid_auto_columns": null,
       "grid_auto_flow": null,
       "grid_auto_rows": null,
       "grid_column": null,
       "grid_gap": null,
       "grid_row": null,
       "grid_template_areas": null,
       "grid_template_columns": null,
       "grid_template_rows": null,
       "height": null,
       "justify_content": null,
       "justify_items": null,
       "left": null,
       "margin": null,
       "max_height": null,
       "max_width": null,
       "min_height": null,
       "min_width": null,
       "object_fit": null,
       "object_position": null,
       "order": null,
       "overflow": null,
       "overflow_x": null,
       "overflow_y": null,
       "padding": null,
       "right": null,
       "top": null,
       "visibility": null,
       "width": null
      }
     },
     "1ad7047e9d3149ce899a05c3097bf367": {
      "model_module": "@jupyter-widgets/controls",
      "model_module_version": "1.5.0",
      "model_name": "HTMLModel",
      "state": {
       "_dom_classes": [],
       "_model_module": "@jupyter-widgets/controls",
       "_model_module_version": "1.5.0",
       "_model_name": "HTMLModel",
       "_view_count": null,
       "_view_module": "@jupyter-widgets/controls",
       "_view_module_version": "1.5.0",
       "_view_name": "HTMLView",
       "description": "",
       "description_tooltip": null,
       "layout": "IPY_MODEL_3dd26ee6985d4918927b2f6c39f62dc5",
       "placeholder": "​",
       "style": "IPY_MODEL_2de96606354b4322afd0b0bfd5cff71a",
       "value": "tokenizer_config.json: 100%"
      }
     },
     "21b8429c381142569d5a6279435774f9": {
      "model_module": "@jupyter-widgets/controls",
      "model_module_version": "1.5.0",
      "model_name": "DescriptionStyleModel",
      "state": {
       "_model_module": "@jupyter-widgets/controls",
       "_model_module_version": "1.5.0",
       "_model_name": "DescriptionStyleModel",
       "_view_count": null,
       "_view_module": "@jupyter-widgets/base",
       "_view_module_version": "1.2.0",
       "_view_name": "StyleView",
       "description_width": ""
      }
     },
     "251401da2b804894872c81f1f6ce1af9": {
      "model_module": "@jupyter-widgets/controls",
      "model_module_version": "1.5.0",
      "model_name": "HBoxModel",
      "state": {
       "_dom_classes": [],
       "_model_module": "@jupyter-widgets/controls",
       "_model_module_version": "1.5.0",
       "_model_name": "HBoxModel",
       "_view_count": null,
       "_view_module": "@jupyter-widgets/controls",
       "_view_module_version": "1.5.0",
       "_view_name": "HBoxView",
       "box_style": "",
       "children": [
        "IPY_MODEL_0df1716e01c14ceca39e0760fdb8c202",
        "IPY_MODEL_9f2f88f8866448f9b1f864eadf9e02a2",
        "IPY_MODEL_434253d055ab4c70a7cfe5e6d0b305c2"
       ],
       "layout": "IPY_MODEL_2ffb62c7582e4f17905f0e5fc3df824a"
      }
     },
     "25929cf2e44e4bfcaf9872148de83292": {
      "model_module": "@jupyter-widgets/controls",
      "model_module_version": "1.5.0",
      "model_name": "FloatProgressModel",
      "state": {
       "_dom_classes": [],
       "_model_module": "@jupyter-widgets/controls",
       "_model_module_version": "1.5.0",
       "_model_name": "FloatProgressModel",
       "_view_count": null,
       "_view_module": "@jupyter-widgets/controls",
       "_view_module_version": "1.5.0",
       "_view_name": "ProgressView",
       "bar_style": "success",
       "description": "",
       "description_tooltip": null,
       "layout": "IPY_MODEL_159289d9a7ac4450be92022d7b3021a6",
       "max": 52.0,
       "min": 0.0,
       "orientation": "horizontal",
       "style": "IPY_MODEL_8fff01fe424349c48bf6f89079d56cc0",
       "value": 52.0
      }
     },
     "26be95b3158943dfaa51f3143514445b": {
      "model_module": "@jupyter-widgets/controls",
      "model_module_version": "1.5.0",
      "model_name": "HTMLModel",
      "state": {
       "_dom_classes": [],
       "_model_module": "@jupyter-widgets/controls",
       "_model_module_version": "1.5.0",
       "_model_name": "HTMLModel",
       "_view_count": null,
       "_view_module": "@jupyter-widgets/controls",
       "_view_module_version": "1.5.0",
       "_view_name": "HTMLView",
       "description": "",
       "description_tooltip": null,
       "layout": "IPY_MODEL_fd2f8692c0fe40eeb6af02c97e3c5389",
       "placeholder": "​",
       "style": "IPY_MODEL_21b8429c381142569d5a6279435774f9",
       "value": "spm.model: 100%"
      }
     },
     "2ac2336e224342a3b176c2b0b5b1d52d": {
      "model_module": "@jupyter-widgets/controls",
      "model_module_version": "1.5.0",
      "model_name": "DescriptionStyleModel",
      "state": {
       "_model_module": "@jupyter-widgets/controls",
       "_model_module_version": "1.5.0",
       "_model_name": "DescriptionStyleModel",
       "_view_count": null,
       "_view_module": "@jupyter-widgets/base",
       "_view_module_version": "1.2.0",
       "_view_name": "StyleView",
       "description_width": ""
      }
     },
     "2de96606354b4322afd0b0bfd5cff71a": {
      "model_module": "@jupyter-widgets/controls",
      "model_module_version": "1.5.0",
      "model_name": "DescriptionStyleModel",
      "state": {
       "_model_module": "@jupyter-widgets/controls",
       "_model_module_version": "1.5.0",
       "_model_name": "DescriptionStyleModel",
       "_view_count": null,
       "_view_module": "@jupyter-widgets/base",
       "_view_module_version": "1.2.0",
       "_view_name": "StyleView",
       "description_width": ""
      }
     },
     "2ffb62c7582e4f17905f0e5fc3df824a": {
      "model_module": "@jupyter-widgets/base",
      "model_module_version": "1.2.0",
      "model_name": "LayoutModel",
      "state": {
       "_model_module": "@jupyter-widgets/base",
       "_model_module_version": "1.2.0",
       "_model_name": "LayoutModel",
       "_view_count": null,
       "_view_module": "@jupyter-widgets/base",
       "_view_module_version": "1.2.0",
       "_view_name": "LayoutView",
       "align_content": null,
       "align_items": null,
       "align_self": null,
       "border": null,
       "bottom": null,
       "display": null,
       "flex": null,
       "flex_flow": null,
       "grid_area": null,
       "grid_auto_columns": null,
       "grid_auto_flow": null,
       "grid_auto_rows": null,
       "grid_column": null,
       "grid_gap": null,
       "grid_row": null,
       "grid_template_areas": null,
       "grid_template_columns": null,
       "grid_template_rows": null,
       "height": null,
       "justify_content": null,
       "justify_items": null,
       "left": null,
       "margin": null,
       "max_height": null,
       "max_width": null,
       "min_height": null,
       "min_width": null,
       "object_fit": null,
       "object_position": null,
       "order": null,
       "overflow": null,
       "overflow_x": null,
       "overflow_y": null,
       "padding": null,
       "right": null,
       "top": null,
       "visibility": null,
       "width": null
      }
     },
     "32a1b43374034b82b9c720e72e633eef": {
      "model_module": "@jupyter-widgets/base",
      "model_module_version": "1.2.0",
      "model_name": "LayoutModel",
      "state": {
       "_model_module": "@jupyter-widgets/base",
       "_model_module_version": "1.2.0",
       "_model_name": "LayoutModel",
       "_view_count": null,
       "_view_module": "@jupyter-widgets/base",
       "_view_module_version": "1.2.0",
       "_view_name": "LayoutView",
       "align_content": null,
       "align_items": null,
       "align_self": null,
       "border": null,
       "bottom": null,
       "display": null,
       "flex": null,
       "flex_flow": null,
       "grid_area": null,
       "grid_auto_columns": null,
       "grid_auto_flow": null,
       "grid_auto_rows": null,
       "grid_column": null,
       "grid_gap": null,
       "grid_row": null,
       "grid_template_areas": null,
       "grid_template_columns": null,
       "grid_template_rows": null,
       "height": null,
       "justify_content": null,
       "justify_items": null,
       "left": null,
       "margin": null,
       "max_height": null,
       "max_width": null,
       "min_height": null,
       "min_width": null,
       "object_fit": null,
       "object_position": null,
       "order": null,
       "overflow": null,
       "overflow_x": null,
       "overflow_y": null,
       "padding": null,
       "right": null,
       "top": null,
       "visibility": null,
       "width": null
      }
     },
     "32a669ee302343dea37ff742ec853a8c": {
      "model_module": "@jupyter-widgets/controls",
      "model_module_version": "1.5.0",
      "model_name": "HTMLModel",
      "state": {
       "_dom_classes": [],
       "_model_module": "@jupyter-widgets/controls",
       "_model_module_version": "1.5.0",
       "_model_name": "HTMLModel",
       "_view_count": null,
       "_view_module": "@jupyter-widgets/controls",
       "_view_module_version": "1.5.0",
       "_view_name": "HTMLView",
       "description": "",
       "description_tooltip": null,
       "layout": "IPY_MODEL_6ee2d4443c2f41449087e98990066100",
       "placeholder": "​",
       "style": "IPY_MODEL_2ac2336e224342a3b176c2b0b5b1d52d",
       "value": "pytorch_model.bin: 100%"
      }
     },
     "3a05adc8279e4ce9beb873c1e23ea8d5": {
      "model_module": "@jupyter-widgets/controls",
      "model_module_version": "1.5.0",
      "model_name": "HTMLModel",
      "state": {
       "_dom_classes": [],
       "_model_module": "@jupyter-widgets/controls",
       "_model_module_version": "1.5.0",
       "_model_name": "HTMLModel",
       "_view_count": null,
       "_view_module": "@jupyter-widgets/controls",
       "_view_module_version": "1.5.0",
       "_view_name": "HTMLView",
       "description": "",
       "description_tooltip": null,
       "layout": "IPY_MODEL_0f22b592909b4f58b2762e1cd5eaff10",
       "placeholder": "​",
       "style": "IPY_MODEL_fd10d030168749ecacffc82cc071250b",
       "value": " 52.0/52.0 [00:00&lt;00:00, 4.31kB/s]"
      }
     },
     "3dd26ee6985d4918927b2f6c39f62dc5": {
      "model_module": "@jupyter-widgets/base",
      "model_module_version": "1.2.0",
      "model_name": "LayoutModel",
      "state": {
       "_model_module": "@jupyter-widgets/base",
       "_model_module_version": "1.2.0",
       "_model_name": "LayoutModel",
       "_view_count": null,
       "_view_module": "@jupyter-widgets/base",
       "_view_module_version": "1.2.0",
       "_view_name": "LayoutView",
       "align_content": null,
       "align_items": null,
       "align_self": null,
       "border": null,
       "bottom": null,
       "display": null,
       "flex": null,
       "flex_flow": null,
       "grid_area": null,
       "grid_auto_columns": null,
       "grid_auto_flow": null,
       "grid_auto_rows": null,
       "grid_column": null,
       "grid_gap": null,
       "grid_row": null,
       "grid_template_areas": null,
       "grid_template_columns": null,
       "grid_template_rows": null,
       "height": null,
       "justify_content": null,
       "justify_items": null,
       "left": null,
       "margin": null,
       "max_height": null,
       "max_width": null,
       "min_height": null,
       "min_width": null,
       "object_fit": null,
       "object_position": null,
       "order": null,
       "overflow": null,
       "overflow_x": null,
       "overflow_y": null,
       "padding": null,
       "right": null,
       "top": null,
       "visibility": null,
       "width": null
      }
     },
     "434253d055ab4c70a7cfe5e6d0b305c2": {
      "model_module": "@jupyter-widgets/controls",
      "model_module_version": "1.5.0",
      "model_name": "HTMLModel",
      "state": {
       "_dom_classes": [],
       "_model_module": "@jupyter-widgets/controls",
       "_model_module_version": "1.5.0",
       "_model_name": "HTMLModel",
       "_view_count": null,
       "_view_module": "@jupyter-widgets/controls",
       "_view_module_version": "1.5.0",
       "_view_name": "HTMLView",
       "description": "",
       "description_tooltip": null,
       "layout": "IPY_MODEL_32a1b43374034b82b9c720e72e633eef",
       "placeholder": "​",
       "style": "IPY_MODEL_9bbf240ad79f4529ad7cdae352b33cf7",
       "value": " 579/579 [00:00&lt;00:00, 49.4kB/s]"
      }
     },
     "57a05dc8b70f446db0434c921c55449a": {
      "model_module": "@jupyter-widgets/base",
      "model_module_version": "1.2.0",
      "model_name": "LayoutModel",
      "state": {
       "_model_module": "@jupyter-widgets/base",
       "_model_module_version": "1.2.0",
       "_model_name": "LayoutModel",
       "_view_count": null,
       "_view_module": "@jupyter-widgets/base",
       "_view_module_version": "1.2.0",
       "_view_name": "LayoutView",
       "align_content": null,
       "align_items": null,
       "align_self": null,
       "border": null,
       "bottom": null,
       "display": null,
       "flex": null,
       "flex_flow": null,
       "grid_area": null,
       "grid_auto_columns": null,
       "grid_auto_flow": null,
       "grid_auto_rows": null,
       "grid_column": null,
       "grid_gap": null,
       "grid_row": null,
       "grid_template_areas": null,
       "grid_template_columns": null,
       "grid_template_rows": null,
       "height": null,
       "justify_content": null,
       "justify_items": null,
       "left": null,
       "margin": null,
       "max_height": null,
       "max_width": null,
       "min_height": null,
       "min_width": null,
       "object_fit": null,
       "object_position": null,
       "order": null,
       "overflow": null,
       "overflow_x": null,
       "overflow_y": null,
       "padding": null,
       "right": null,
       "top": null,
       "visibility": null,
       "width": null
      }
     },
     "6ee2d4443c2f41449087e98990066100": {
      "model_module": "@jupyter-widgets/base",
      "model_module_version": "1.2.0",
      "model_name": "LayoutModel",
      "state": {
       "_model_module": "@jupyter-widgets/base",
       "_model_module_version": "1.2.0",
       "_model_name": "LayoutModel",
       "_view_count": null,
       "_view_module": "@jupyter-widgets/base",
       "_view_module_version": "1.2.0",
       "_view_name": "LayoutView",
       "align_content": null,
       "align_items": null,
       "align_self": null,
       "border": null,
       "bottom": null,
       "display": null,
       "flex": null,
       "flex_flow": null,
       "grid_area": null,
       "grid_auto_columns": null,
       "grid_auto_flow": null,
       "grid_auto_rows": null,
       "grid_column": null,
       "grid_gap": null,
       "grid_row": null,
       "grid_template_areas": null,
       "grid_template_columns": null,
       "grid_template_rows": null,
       "height": null,
       "justify_content": null,
       "justify_items": null,
       "left": null,
       "margin": null,
       "max_height": null,
       "max_width": null,
       "min_height": null,
       "min_width": null,
       "object_fit": null,
       "object_position": null,
       "order": null,
       "overflow": null,
       "overflow_x": null,
       "overflow_y": null,
       "padding": null,
       "right": null,
       "top": null,
       "visibility": null,
       "width": null
      }
     },
     "777293af07b04f87961976f575e6f567": {
      "model_module": "@jupyter-widgets/controls",
      "model_module_version": "1.5.0",
      "model_name": "FloatProgressModel",
      "state": {
       "_dom_classes": [],
       "_model_module": "@jupyter-widgets/controls",
       "_model_module_version": "1.5.0",
       "_model_name": "FloatProgressModel",
       "_view_count": null,
       "_view_module": "@jupyter-widgets/controls",
       "_view_module_version": "1.5.0",
       "_view_name": "ProgressView",
       "bar_style": "success",
       "description": "",
       "description_tooltip": null,
       "layout": "IPY_MODEL_cb1dc9ea2d19446c99e5ffa4868c027d",
       "max": 2464616.0,
       "min": 0.0,
       "orientation": "horizontal",
       "style": "IPY_MODEL_cc359fb2808b44edaaf22708fcc3902a",
       "value": 2464616.0
      }
     },
     "778e578d0d214962b423e230233edc08": {
      "model_module": "@jupyter-widgets/controls",
      "model_module_version": "1.5.0",
      "model_name": "HBoxModel",
      "state": {
       "_dom_classes": [],
       "_model_module": "@jupyter-widgets/controls",
       "_model_module_version": "1.5.0",
       "_model_name": "HBoxModel",
       "_view_count": null,
       "_view_module": "@jupyter-widgets/controls",
       "_view_module_version": "1.5.0",
       "_view_name": "HBoxView",
       "box_style": "",
       "children": [
        "IPY_MODEL_1ad7047e9d3149ce899a05c3097bf367",
        "IPY_MODEL_25929cf2e44e4bfcaf9872148de83292",
        "IPY_MODEL_3a05adc8279e4ce9beb873c1e23ea8d5"
       ],
       "layout": "IPY_MODEL_ae852588f05346278614316df33e63de"
      }
     },
     "7c1c8c9f6bff4af2b9563c404c1a240f": {
      "model_module": "@jupyter-widgets/controls",
      "model_module_version": "1.5.0",
      "model_name": "ProgressStyleModel",
      "state": {
       "_model_module": "@jupyter-widgets/controls",
       "_model_module_version": "1.5.0",
       "_model_name": "ProgressStyleModel",
       "_view_count": null,
       "_view_module": "@jupyter-widgets/base",
       "_view_module_version": "1.2.0",
       "_view_name": "StyleView",
       "bar_color": null,
       "description_width": ""
      }
     },
     "7f6f339115ad4764b3fe21448dc2665c": {
      "model_module": "@jupyter-widgets/controls",
      "model_module_version": "1.5.0",
      "model_name": "FloatProgressModel",
      "state": {
       "_dom_classes": [],
       "_model_module": "@jupyter-widgets/controls",
       "_model_module_version": "1.5.0",
       "_model_name": "FloatProgressModel",
       "_view_count": null,
       "_view_module": "@jupyter-widgets/controls",
       "_view_module_version": "1.5.0",
       "_view_name": "ProgressView",
       "bar_style": "success",
       "description": "",
       "description_tooltip": null,
       "layout": "IPY_MODEL_060106e2c27e4a50beff18e28250b28f",
       "max": 371146213.0,
       "min": 0.0,
       "orientation": "horizontal",
       "style": "IPY_MODEL_0710e7c9ec6c4cdf9fd9eaeb63fe59bd",
       "value": 371146213.0
      }
     },
     "8ca597b9b658420a8d135163f217fcf0": {
      "model_module": "@jupyter-widgets/base",
      "model_module_version": "1.2.0",
      "model_name": "LayoutModel",
      "state": {
       "_model_module": "@jupyter-widgets/base",
       "_model_module_version": "1.2.0",
       "_model_name": "LayoutModel",
       "_view_count": null,
       "_view_module": "@jupyter-widgets/base",
       "_view_module_version": "1.2.0",
       "_view_name": "LayoutView",
       "align_content": null,
       "align_items": null,
       "align_self": null,
       "border": null,
       "bottom": null,
       "display": null,
       "flex": null,
       "flex_flow": null,
       "grid_area": null,
       "grid_auto_columns": null,
       "grid_auto_flow": null,
       "grid_auto_rows": null,
       "grid_column": null,
       "grid_gap": null,
       "grid_row": null,
       "grid_template_areas": null,
       "grid_template_columns": null,
       "grid_template_rows": null,
       "height": null,
       "justify_content": null,
       "justify_items": null,
       "left": null,
       "margin": null,
       "max_height": null,
       "max_width": null,
       "min_height": null,
       "min_width": null,
       "object_fit": null,
       "object_position": null,
       "order": null,
       "overflow": null,
       "overflow_x": null,
       "overflow_y": null,
       "padding": null,
       "right": null,
       "top": null,
       "visibility": null,
       "width": null
      }
     },
     "8fff01fe424349c48bf6f89079d56cc0": {
      "model_module": "@jupyter-widgets/controls",
      "model_module_version": "1.5.0",
      "model_name": "ProgressStyleModel",
      "state": {
       "_model_module": "@jupyter-widgets/controls",
       "_model_module_version": "1.5.0",
       "_model_name": "ProgressStyleModel",
       "_view_count": null,
       "_view_module": "@jupyter-widgets/base",
       "_view_module_version": "1.2.0",
       "_view_name": "StyleView",
       "bar_color": null,
       "description_width": ""
      }
     },
     "96e99a5960874d9b9442a8f03ddf396c": {
      "model_module": "@jupyter-widgets/controls",
      "model_module_version": "1.5.0",
      "model_name": "HTMLModel",
      "state": {
       "_dom_classes": [],
       "_model_module": "@jupyter-widgets/controls",
       "_model_module_version": "1.5.0",
       "_model_name": "HTMLModel",
       "_view_count": null,
       "_view_module": "@jupyter-widgets/controls",
       "_view_module_version": "1.5.0",
       "_view_name": "HTMLView",
       "description": "",
       "description_tooltip": null,
       "layout": "IPY_MODEL_1505bdb63ddf45dbb3b42e249a29c4e3",
       "placeholder": "​",
       "style": "IPY_MODEL_c734f55f8a87452d8a35579ab1c65be0",
       "value": " 2.46M/2.46M [00:00&lt;00:00, 26.1MB/s]"
      }
     },
     "9bbf240ad79f4529ad7cdae352b33cf7": {
      "model_module": "@jupyter-widgets/controls",
      "model_module_version": "1.5.0",
      "model_name": "DescriptionStyleModel",
      "state": {
       "_model_module": "@jupyter-widgets/controls",
       "_model_module_version": "1.5.0",
       "_model_name": "DescriptionStyleModel",
       "_view_count": null,
       "_view_module": "@jupyter-widgets/base",
       "_view_module_version": "1.2.0",
       "_view_name": "StyleView",
       "description_width": ""
      }
     },
     "9f2f88f8866448f9b1f864eadf9e02a2": {
      "model_module": "@jupyter-widgets/controls",
      "model_module_version": "1.5.0",
      "model_name": "FloatProgressModel",
      "state": {
       "_dom_classes": [],
       "_model_module": "@jupyter-widgets/controls",
       "_model_module_version": "1.5.0",
       "_model_name": "FloatProgressModel",
       "_view_count": null,
       "_view_module": "@jupyter-widgets/controls",
       "_view_module_version": "1.5.0",
       "_view_name": "ProgressView",
       "bar_style": "success",
       "description": "",
       "description_tooltip": null,
       "layout": "IPY_MODEL_57a05dc8b70f446db0434c921c55449a",
       "max": 579.0,
       "min": 0.0,
       "orientation": "horizontal",
       "style": "IPY_MODEL_7c1c8c9f6bff4af2b9563c404c1a240f",
       "value": 579.0
      }
     },
     "a02eb04e98ea4859a17ab99b4665b2a8": {
      "model_module": "@jupyter-widgets/base",
      "model_module_version": "1.2.0",
      "model_name": "LayoutModel",
      "state": {
       "_model_module": "@jupyter-widgets/base",
       "_model_module_version": "1.2.0",
       "_model_name": "LayoutModel",
       "_view_count": null,
       "_view_module": "@jupyter-widgets/base",
       "_view_module_version": "1.2.0",
       "_view_name": "LayoutView",
       "align_content": null,
       "align_items": null,
       "align_self": null,
       "border": null,
       "bottom": null,
       "display": null,
       "flex": null,
       "flex_flow": null,
       "grid_area": null,
       "grid_auto_columns": null,
       "grid_auto_flow": null,
       "grid_auto_rows": null,
       "grid_column": null,
       "grid_gap": null,
       "grid_row": null,
       "grid_template_areas": null,
       "grid_template_columns": null,
       "grid_template_rows": null,
       "height": null,
       "justify_content": null,
       "justify_items": null,
       "left": null,
       "margin": null,
       "max_height": null,
       "max_width": null,
       "min_height": null,
       "min_width": null,
       "object_fit": null,
       "object_position": null,
       "order": null,
       "overflow": null,
       "overflow_x": null,
       "overflow_y": null,
       "padding": null,
       "right": null,
       "top": null,
       "visibility": null,
       "width": null
      }
     },
     "ae852588f05346278614316df33e63de": {
      "model_module": "@jupyter-widgets/base",
      "model_module_version": "1.2.0",
      "model_name": "LayoutModel",
      "state": {
       "_model_module": "@jupyter-widgets/base",
       "_model_module_version": "1.2.0",
       "_model_name": "LayoutModel",
       "_view_count": null,
       "_view_module": "@jupyter-widgets/base",
       "_view_module_version": "1.2.0",
       "_view_name": "LayoutView",
       "align_content": null,
       "align_items": null,
       "align_self": null,
       "border": null,
       "bottom": null,
       "display": null,
       "flex": null,
       "flex_flow": null,
       "grid_area": null,
       "grid_auto_columns": null,
       "grid_auto_flow": null,
       "grid_auto_rows": null,
       "grid_column": null,
       "grid_gap": null,
       "grid_row": null,
       "grid_template_areas": null,
       "grid_template_columns": null,
       "grid_template_rows": null,
       "height": null,
       "justify_content": null,
       "justify_items": null,
       "left": null,
       "margin": null,
       "max_height": null,
       "max_width": null,
       "min_height": null,
       "min_width": null,
       "object_fit": null,
       "object_position": null,
       "order": null,
       "overflow": null,
       "overflow_x": null,
       "overflow_y": null,
       "padding": null,
       "right": null,
       "top": null,
       "visibility": null,
       "width": null
      }
     },
     "b5bf0da5607b45a691a748559d9d9bde": {
      "model_module": "@jupyter-widgets/base",
      "model_module_version": "1.2.0",
      "model_name": "LayoutModel",
      "state": {
       "_model_module": "@jupyter-widgets/base",
       "_model_module_version": "1.2.0",
       "_model_name": "LayoutModel",
       "_view_count": null,
       "_view_module": "@jupyter-widgets/base",
       "_view_module_version": "1.2.0",
       "_view_name": "LayoutView",
       "align_content": null,
       "align_items": null,
       "align_self": null,
       "border": null,
       "bottom": null,
       "display": null,
       "flex": null,
       "flex_flow": null,
       "grid_area": null,
       "grid_auto_columns": null,
       "grid_auto_flow": null,
       "grid_auto_rows": null,
       "grid_column": null,
       "grid_gap": null,
       "grid_row": null,
       "grid_template_areas": null,
       "grid_template_columns": null,
       "grid_template_rows": null,
       "height": null,
       "justify_content": null,
       "justify_items": null,
       "left": null,
       "margin": null,
       "max_height": null,
       "max_width": null,
       "min_height": null,
       "min_width": null,
       "object_fit": null,
       "object_position": null,
       "order": null,
       "overflow": null,
       "overflow_x": null,
       "overflow_y": null,
       "padding": null,
       "right": null,
       "top": null,
       "visibility": null,
       "width": null
      }
     },
     "b93939718db9462785283959bb81fd0a": {
      "model_module": "@jupyter-widgets/controls",
      "model_module_version": "1.5.0",
      "model_name": "HBoxModel",
      "state": {
       "_dom_classes": [],
       "_model_module": "@jupyter-widgets/controls",
       "_model_module_version": "1.5.0",
       "_model_name": "HBoxModel",
       "_view_count": null,
       "_view_module": "@jupyter-widgets/controls",
       "_view_module_version": "1.5.0",
       "_view_name": "HBoxView",
       "box_style": "",
       "children": [
        "IPY_MODEL_32a669ee302343dea37ff742ec853a8c",
        "IPY_MODEL_7f6f339115ad4764b3fe21448dc2665c",
        "IPY_MODEL_004368f3ca84412784ab45cb59eea6e2"
       ],
       "layout": "IPY_MODEL_8ca597b9b658420a8d135163f217fcf0"
      }
     },
     "c4a8c7fb4cc94701a5968976fb5bc407": {
      "model_module": "@jupyter-widgets/controls",
      "model_module_version": "1.5.0",
      "model_name": "DescriptionStyleModel",
      "state": {
       "_model_module": "@jupyter-widgets/controls",
       "_model_module_version": "1.5.0",
       "_model_name": "DescriptionStyleModel",
       "_view_count": null,
       "_view_module": "@jupyter-widgets/base",
       "_view_module_version": "1.2.0",
       "_view_name": "StyleView",
       "description_width": ""
      }
     },
     "c734f55f8a87452d8a35579ab1c65be0": {
      "model_module": "@jupyter-widgets/controls",
      "model_module_version": "1.5.0",
      "model_name": "DescriptionStyleModel",
      "state": {
       "_model_module": "@jupyter-widgets/controls",
       "_model_module_version": "1.5.0",
       "_model_name": "DescriptionStyleModel",
       "_view_count": null,
       "_view_module": "@jupyter-widgets/base",
       "_view_module_version": "1.2.0",
       "_view_name": "StyleView",
       "description_width": ""
      }
     },
     "c9fdc78dd07b45789ee013668916a771": {
      "model_module": "@jupyter-widgets/controls",
      "model_module_version": "1.5.0",
      "model_name": "HBoxModel",
      "state": {
       "_dom_classes": [],
       "_model_module": "@jupyter-widgets/controls",
       "_model_module_version": "1.5.0",
       "_model_name": "HBoxModel",
       "_view_count": null,
       "_view_module": "@jupyter-widgets/controls",
       "_view_module_version": "1.5.0",
       "_view_name": "HBoxView",
       "box_style": "",
       "children": [
        "IPY_MODEL_26be95b3158943dfaa51f3143514445b",
        "IPY_MODEL_777293af07b04f87961976f575e6f567",
        "IPY_MODEL_96e99a5960874d9b9442a8f03ddf396c"
       ],
       "layout": "IPY_MODEL_a02eb04e98ea4859a17ab99b4665b2a8"
      }
     },
     "cb1dc9ea2d19446c99e5ffa4868c027d": {
      "model_module": "@jupyter-widgets/base",
      "model_module_version": "1.2.0",
      "model_name": "LayoutModel",
      "state": {
       "_model_module": "@jupyter-widgets/base",
       "_model_module_version": "1.2.0",
       "_model_name": "LayoutModel",
       "_view_count": null,
       "_view_module": "@jupyter-widgets/base",
       "_view_module_version": "1.2.0",
       "_view_name": "LayoutView",
       "align_content": null,
       "align_items": null,
       "align_self": null,
       "border": null,
       "bottom": null,
       "display": null,
       "flex": null,
       "flex_flow": null,
       "grid_area": null,
       "grid_auto_columns": null,
       "grid_auto_flow": null,
       "grid_auto_rows": null,
       "grid_column": null,
       "grid_gap": null,
       "grid_row": null,
       "grid_template_areas": null,
       "grid_template_columns": null,
       "grid_template_rows": null,
       "height": null,
       "justify_content": null,
       "justify_items": null,
       "left": null,
       "margin": null,
       "max_height": null,
       "max_width": null,
       "min_height": null,
       "min_width": null,
       "object_fit": null,
       "object_position": null,
       "order": null,
       "overflow": null,
       "overflow_x": null,
       "overflow_y": null,
       "padding": null,
       "right": null,
       "top": null,
       "visibility": null,
       "width": null
      }
     },
     "cb3a996107ac4e179e61c324b799b331": {
      "model_module": "@jupyter-widgets/controls",
      "model_module_version": "1.5.0",
      "model_name": "DescriptionStyleModel",
      "state": {
       "_model_module": "@jupyter-widgets/controls",
       "_model_module_version": "1.5.0",
       "_model_name": "DescriptionStyleModel",
       "_view_count": null,
       "_view_module": "@jupyter-widgets/base",
       "_view_module_version": "1.2.0",
       "_view_name": "StyleView",
       "description_width": ""
      }
     },
     "cc359fb2808b44edaaf22708fcc3902a": {
      "model_module": "@jupyter-widgets/controls",
      "model_module_version": "1.5.0",
      "model_name": "ProgressStyleModel",
      "state": {
       "_model_module": "@jupyter-widgets/controls",
       "_model_module_version": "1.5.0",
       "_model_name": "ProgressStyleModel",
       "_view_count": null,
       "_view_module": "@jupyter-widgets/base",
       "_view_module_version": "1.2.0",
       "_view_name": "StyleView",
       "bar_color": null,
       "description_width": ""
      }
     },
     "ea7812cd90964247ab97d3087b102c13": {
      "model_module": "@jupyter-widgets/base",
      "model_module_version": "1.2.0",
      "model_name": "LayoutModel",
      "state": {
       "_model_module": "@jupyter-widgets/base",
       "_model_module_version": "1.2.0",
       "_model_name": "LayoutModel",
       "_view_count": null,
       "_view_module": "@jupyter-widgets/base",
       "_view_module_version": "1.2.0",
       "_view_name": "LayoutView",
       "align_content": null,
       "align_items": null,
       "align_self": null,
       "border": null,
       "bottom": null,
       "display": null,
       "flex": null,
       "flex_flow": null,
       "grid_area": null,
       "grid_auto_columns": null,
       "grid_auto_flow": null,
       "grid_auto_rows": null,
       "grid_column": null,
       "grid_gap": null,
       "grid_row": null,
       "grid_template_areas": null,
       "grid_template_columns": null,
       "grid_template_rows": null,
       "height": null,
       "justify_content": null,
       "justify_items": null,
       "left": null,
       "margin": null,
       "max_height": null,
       "max_width": null,
       "min_height": null,
       "min_width": null,
       "object_fit": null,
       "object_position": null,
       "order": null,
       "overflow": null,
       "overflow_x": null,
       "overflow_y": null,
       "padding": null,
       "right": null,
       "top": null,
       "visibility": null,
       "width": null
      }
     },
     "fd10d030168749ecacffc82cc071250b": {
      "model_module": "@jupyter-widgets/controls",
      "model_module_version": "1.5.0",
      "model_name": "DescriptionStyleModel",
      "state": {
       "_model_module": "@jupyter-widgets/controls",
       "_model_module_version": "1.5.0",
       "_model_name": "DescriptionStyleModel",
       "_view_count": null,
       "_view_module": "@jupyter-widgets/base",
       "_view_module_version": "1.2.0",
       "_view_name": "StyleView",
       "description_width": ""
      }
     },
     "fd2f8692c0fe40eeb6af02c97e3c5389": {
      "model_module": "@jupyter-widgets/base",
      "model_module_version": "1.2.0",
      "model_name": "LayoutModel",
      "state": {
       "_model_module": "@jupyter-widgets/base",
       "_model_module_version": "1.2.0",
       "_model_name": "LayoutModel",
       "_view_count": null,
       "_view_module": "@jupyter-widgets/base",
       "_view_module_version": "1.2.0",
       "_view_name": "LayoutView",
       "align_content": null,
       "align_items": null,
       "align_self": null,
       "border": null,
       "bottom": null,
       "display": null,
       "flex": null,
       "flex_flow": null,
       "grid_area": null,
       "grid_auto_columns": null,
       "grid_auto_flow": null,
       "grid_auto_rows": null,
       "grid_column": null,
       "grid_gap": null,
       "grid_row": null,
       "grid_template_areas": null,
       "grid_template_columns": null,
       "grid_template_rows": null,
       "height": null,
       "justify_content": null,
       "justify_items": null,
       "left": null,
       "margin": null,
       "max_height": null,
       "max_width": null,
       "min_height": null,
       "min_width": null,
       "object_fit": null,
       "object_position": null,
       "order": null,
       "overflow": null,
       "overflow_x": null,
       "overflow_y": null,
       "padding": null,
       "right": null,
       "top": null,
       "visibility": null,
       "width": null
      }
     }
    },
    "version_major": 2,
    "version_minor": 0
   }
  }
 },
 "nbformat": 4,
 "nbformat_minor": 5
}
