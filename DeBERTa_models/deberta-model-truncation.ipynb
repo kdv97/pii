{
 "cells": [
  {
   "cell_type": "markdown",
   "id": "ec3049c2",
   "metadata": {},
   "source": [
    "# DeBERTa Model with Truncation\n",
    "This notebook serves as the main run file for DeBERTa models using truncation to preprocess the data\n",
    "There are several things that one can change in this file for each run: \n",
    "1. Penalty for loss function \n",
    "2. Can alter truncate function to change the truncation of tokenization\n",
    "3. Training parameters such as epochs, learning rate, etc. \n",
    "4. Training on data which has been split into train/test sets or training on full dataset (i.e. after final model has been chosen). To do this, change `evaluation_strategy` to `no`, and in the `trainer=Trainer()`, delete `test_ds=...` and change `train_ds=...` to `train_ds=ds`. "
   ]
  },
  {
   "cell_type": "code",
   "execution_count": 1,
   "id": "bb638ad3",
   "metadata": {
    "_cell_guid": "b1076dfc-b9ad-4769-8c92-a6c4dae69d19",
    "_uuid": "8f2839f25d086af736a60e9eeb907d3b93b6e0e5",
    "execution": {
     "iopub.execute_input": "2024-05-02T20:13:31.935607Z",
     "iopub.status.busy": "2024-05-02T20:13:31.935300Z",
     "iopub.status.idle": "2024-05-02T20:13:32.676923Z",
     "shell.execute_reply": "2024-05-02T20:13:32.675658Z"
    },
    "papermill": {
     "duration": 0.751967,
     "end_time": "2024-05-02T20:13:32.679835",
     "exception": false,
     "start_time": "2024-05-02T20:13:31.927868",
     "status": "completed"
    },
    "tags": []
   },
   "outputs": [
    {
     "name": "stdout",
     "output_type": "stream",
     "text": [
      "/kaggle/input/data-exploration/deberta_test.csv\n",
      "/kaggle/input/data-exploration/roberta_test.csv\n",
      "/kaggle/input/data-exploration/roberta_train.csv\n",
      "/kaggle/input/data-exploration/__results__.html\n",
      "/kaggle/input/data-exploration/docs2cut.txt\n",
      "/kaggle/input/data-exploration/deberta_train.csv\n",
      "/kaggle/input/data-exploration/__notebook__.ipynb\n",
      "/kaggle/input/data-exploration/__output__.json\n",
      "/kaggle/input/data-exploration/train.csv\n",
      "/kaggle/input/data-exploration/test.csv\n",
      "/kaggle/input/data-exploration/custom.css\n",
      "/kaggle/input/pii-detection-removal-from-educational-data/sample_submission.csv\n",
      "/kaggle/input/pii-detection-removal-from-educational-data/train.json\n",
      "/kaggle/input/pii-detection-removal-from-educational-data/test.json\n"
     ]
    }
   ],
   "source": [
    "# This Python 3 environment comes with many helpful analytics libraries installed\n",
    "# It is defined by the kaggle/python Docker image: https://github.com/kaggle/docker-python\n",
    "# For example, here's several helpful packages to load\n",
    "\n",
    "import numpy as np # linear algebra\n",
    "import pandas as pd # data processing, CSV file I/O (e.g. pd.read_csv)\n",
    "\n",
    "# Input data files are available in the read-only \"../input/\" directory\n",
    "# For example, running this (by clicking run or pressing Shift+Enter) will list all files under the input directory\n",
    "\n",
    "import os\n",
    "for dirname, _, filenames in os.walk('/kaggle/input'):\n",
    "    for filename in filenames:\n",
    "        print(os.path.join(dirname, filename))\n",
    "\n",
    "# You can write up to 20GB to the current directory (/kaggle/working/) that gets preserved as output when you create a version using \"Save & Run All\" \n",
    "# You can also write temporary files to /kaggle/temp/, but they won't be saved outside of the current session"
   ]
  },
  {
   "cell_type": "code",
   "execution_count": 2,
   "id": "9c61644b",
   "metadata": {
    "execution": {
     "iopub.execute_input": "2024-05-02T20:13:32.696866Z",
     "iopub.status.busy": "2024-05-02T20:13:32.696350Z",
     "iopub.status.idle": "2024-05-02T20:14:06.028273Z",
     "shell.execute_reply": "2024-05-02T20:14:06.027465Z"
    },
    "papermill": {
     "duration": 33.341887,
     "end_time": "2024-05-02T20:14:06.030485",
     "exception": false,
     "start_time": "2024-05-02T20:13:32.688598",
     "status": "completed"
    },
    "tags": []
   },
   "outputs": [
    {
     "name": "stderr",
     "output_type": "stream",
     "text": [
      "2024-05-02 20:13:58.154914: E external/local_xla/xla/stream_executor/cuda/cuda_dnn.cc:9261] Unable to register cuDNN factory: Attempting to register factory for plugin cuDNN when one has already been registered\n",
      "2024-05-02 20:13:58.155044: E external/local_xla/xla/stream_executor/cuda/cuda_fft.cc:607] Unable to register cuFFT factory: Attempting to register factory for plugin cuFFT when one has already been registered\n",
      "2024-05-02 20:13:58.245823: E external/local_xla/xla/stream_executor/cuda/cuda_blas.cc:1515] Unable to register cuBLAS factory: Attempting to register factory for plugin cuBLAS when one has already been registered\n"
     ]
    }
   ],
   "source": [
    "!pip install seqeval evaluate -q\n",
    "import json\n",
    "import argparse\n",
    "from itertools import chain\n",
    "from functools import partial\n",
    "import torch\n",
    "from transformers import AutoTokenizer,AutoModelForTokenClassification,Trainer, TrainingArguments, AutoConfig, DataCollatorForTokenClassification, TrainerCallback\n",
    "import evaluate\n",
    "from datasets import Dataset, features\n",
    "import copy\n",
    "from ast import literal_eval"
   ]
  },
  {
   "cell_type": "markdown",
   "id": "83e5bdac",
   "metadata": {
    "papermill": {
     "duration": 0.005625,
     "end_time": "2024-05-02T20:14:06.042481",
     "exception": false,
     "start_time": "2024-05-02T20:14:06.036856",
     "status": "completed"
    },
    "tags": []
   },
   "source": [
    "# Prepararations for Model"
   ]
  },
  {
   "cell_type": "code",
   "execution_count": 3,
   "id": "0796dda0",
   "metadata": {
    "execution": {
     "iopub.execute_input": "2024-05-02T20:14:06.055764Z",
     "iopub.status.busy": "2024-05-02T20:14:06.055187Z",
     "iopub.status.idle": "2024-05-02T20:14:06.059560Z",
     "shell.execute_reply": "2024-05-02T20:14:06.058754Z"
    },
    "papermill": {
     "duration": 0.013086,
     "end_time": "2024-05-02T20:14:06.061384",
     "exception": false,
     "start_time": "2024-05-02T20:14:06.048298",
     "status": "completed"
    },
    "tags": []
   },
   "outputs": [],
   "source": [
    "# Model Settings from Hugging Face: Path, Length, Output Directory\n",
    "TRAINING_MODEL_PATH = \"microsoft/deberta-v3-base\"\n",
    "TRAINING_MAX_LENGTH = 1024\n",
    "OUTPUT_DIR = \"output\""
   ]
  },
  {
   "cell_type": "code",
   "execution_count": 4,
   "id": "f371c806",
   "metadata": {
    "execution": {
     "iopub.execute_input": "2024-05-02T20:14:06.074069Z",
     "iopub.status.busy": "2024-05-02T20:14:06.073825Z",
     "iopub.status.idle": "2024-05-02T20:14:13.515329Z",
     "shell.execute_reply": "2024-05-02T20:14:13.514102Z"
    },
    "papermill": {
     "duration": 7.450311,
     "end_time": "2024-05-02T20:14:13.517530",
     "exception": false,
     "start_time": "2024-05-02T20:14:06.067219",
     "status": "completed"
    },
    "tags": []
   },
   "outputs": [
    {
     "name": "stdout",
     "output_type": "stream",
     "text": [
      "Index(['document', 'deberta_input_ids', 'deberta_attention_mask',\n",
      "       'deberta_offset_mapping', 'deberta_token_labels', 'deberta_length'],\n",
      "      dtype='object')\n"
     ]
    }
   ],
   "source": [
    "train = pd.read_csv(open('/kaggle/input/data-exploration/train.csv'))\n",
    "test = pd.read_csv(open('/kaggle/input/data-exploration/test.csv'))\n",
    "train = train[['document', 'deberta_input_ids',\n",
    "       'deberta_attention_mask', 'deberta_offset_mapping',\n",
    "       'deberta_token_labels', 'deberta_length']]\n",
    "test = test[['document', 'deberta_input_ids',\n",
    "       'deberta_attention_mask', 'deberta_offset_mapping',\n",
    "       'deberta_token_labels', 'deberta_length']]\n",
    "print(train.columns)"
   ]
  },
  {
   "cell_type": "code",
   "execution_count": 5,
   "id": "5a3be159",
   "metadata": {
    "execution": {
     "iopub.execute_input": "2024-05-02T20:14:13.531095Z",
     "iopub.status.busy": "2024-05-02T20:14:13.530546Z",
     "iopub.status.idle": "2024-05-02T20:15:34.703320Z",
     "shell.execute_reply": "2024-05-02T20:15:34.702496Z"
    },
    "papermill": {
     "duration": 81.18197,
     "end_time": "2024-05-02T20:15:34.705695",
     "exception": false,
     "start_time": "2024-05-02T20:14:13.523725",
     "status": "completed"
    },
    "tags": []
   },
   "outputs": [],
   "source": [
    "train['deberta_input_ids'] = train['deberta_input_ids'].apply(literal_eval)\n",
    "train['deberta_attention_mask'] = train['deberta_attention_mask'].apply(literal_eval)\n",
    "train['deberta_offset_mapping'] = train['deberta_offset_mapping'].apply(literal_eval)\n",
    "train['deberta_token_labels'] = train['deberta_token_labels'].apply(literal_eval)\n",
    "test['deberta_input_ids'] = test['deberta_input_ids'].apply(literal_eval)\n",
    "test['deberta_attention_mask'] = test['deberta_attention_mask'].apply(literal_eval)\n",
    "test['deberta_offset_mapping'] = test['deberta_offset_mapping'].apply(literal_eval)\n",
    "test['deberta_token_labels'] = test['deberta_token_labels'].apply(literal_eval)"
   ]
  },
  {
   "cell_type": "code",
   "execution_count": 6,
   "id": "f31dca97",
   "metadata": {
    "execution": {
     "iopub.execute_input": "2024-05-02T20:15:34.719773Z",
     "iopub.status.busy": "2024-05-02T20:15:34.719429Z",
     "iopub.status.idle": "2024-05-02T20:15:34.854052Z",
     "shell.execute_reply": "2024-05-02T20:15:34.853124Z"
    },
    "papermill": {
     "duration": 0.144024,
     "end_time": "2024-05-02T20:15:34.856178",
     "exception": false,
     "start_time": "2024-05-02T20:15:34.712154",
     "status": "completed"
    },
    "tags": []
   },
   "outputs": [],
   "source": [
    "def truncate(ls): \n",
    "    # Normal truncation\n",
    "    # return(ls[:TRAINING_MAX_LENGTH])\n",
    "    \n",
    "    # Optimized truncation\n",
    "    length = len(ls)\n",
    "    if (length > TRAINING_MAX_LENGTH): \n",
    "        cutoff = 175\n",
    "        return(ls[:cutoff] + ls[-(TRAINING_MAX_LENGTH-cutoff):])\n",
    "    else: return ls\n",
    "\n",
    "train['input_ids'] = train['deberta_input_ids'].apply(truncate)\n",
    "train['attention_mask'] = train['deberta_attention_mask'].apply(truncate)\n",
    "train['offset_mapping'] = train['deberta_offset_mapping'].apply(truncate)\n",
    "train['labels'] = train['deberta_token_labels'].apply(truncate)\n",
    "test['input_ids'] = test['deberta_input_ids'].apply(truncate)\n",
    "test['attention_mask'] = test['deberta_attention_mask'].apply(truncate)\n",
    "test['offset_mapping'] = test['deberta_offset_mapping'].apply(truncate)\n",
    "test['labels'] = test['deberta_token_labels'].apply(truncate)\n",
    "    \n",
    "train = train.drop(['deberta_input_ids', 'deberta_attention_mask','deberta_offset_mapping', \n",
    "                     'deberta_token_labels', 'deberta_length'], axis = 1)\n",
    "test = test.drop(['deberta_input_ids', 'deberta_attention_mask','deberta_offset_mapping', \n",
    "                     'deberta_token_labels', 'deberta_length'], axis = 1)"
   ]
  },
  {
   "cell_type": "code",
   "execution_count": 7,
   "id": "7ccd4dc7",
   "metadata": {
    "execution": {
     "iopub.execute_input": "2024-05-02T20:15:34.869512Z",
     "iopub.status.busy": "2024-05-02T20:15:34.869206Z",
     "iopub.status.idle": "2024-05-02T20:15:34.873430Z",
     "shell.execute_reply": "2024-05-02T20:15:34.872626Z"
    },
    "papermill": {
     "duration": 0.012919,
     "end_time": "2024-05-02T20:15:34.875319",
     "exception": false,
     "start_time": "2024-05-02T20:15:34.862400",
     "status": "completed"
    },
    "tags": []
   },
   "outputs": [],
   "source": [
    "# DOWNSAMPLING: COMMENT ALL IF NOT DOWNSAMPLING\n",
    "\n",
    "# file = open(\"/kaggle/input/data-exploration/docs2cut.txt\",\"r\")\n",
    "# downsample_docs = [int(i) for i in file.read().split('\\n')[:-1]]\n",
    "# print(\"Number of docs removed: \", len(downsample_docs))\n",
    "\n",
    "# print(\"Length of training data: \", len(train))\n",
    "# print(\"Length of testing data: \", len(test))\n",
    "\n",
    "# for d in downsample_docs: \n",
    "#     train = train[train.document != d]\n",
    "#     test = test[test.document != d]\n",
    "    \n",
    "# print(\"After downsampling length of training data: \", len(train))\n",
    "# print(\"After downsampling length of testing data: \", len(test))"
   ]
  },
  {
   "cell_type": "code",
   "execution_count": 8,
   "id": "8b42fc71",
   "metadata": {
    "execution": {
     "iopub.execute_input": "2024-05-02T20:15:34.888123Z",
     "iopub.status.busy": "2024-05-02T20:15:34.887861Z",
     "iopub.status.idle": "2024-05-02T20:15:39.758756Z",
     "shell.execute_reply": "2024-05-02T20:15:39.757942Z"
    },
    "papermill": {
     "duration": 4.879914,
     "end_time": "2024-05-02T20:15:39.761123",
     "exception": false,
     "start_time": "2024-05-02T20:15:34.881209",
     "status": "completed"
    },
    "tags": []
   },
   "outputs": [],
   "source": [
    "ds_train = Dataset.from_pandas(train)\n",
    "ds_test = Dataset.from_pandas(test)\n",
    "\n",
    "# For final model\n",
    "all_data = train.append(test, ignore_index=True)\n",
    "ds = Dataset.from_pandas(all_data)"
   ]
  },
  {
   "cell_type": "code",
   "execution_count": 9,
   "id": "983c8ee8",
   "metadata": {
    "execution": {
     "iopub.execute_input": "2024-05-02T20:15:39.775937Z",
     "iopub.status.busy": "2024-05-02T20:15:39.775604Z",
     "iopub.status.idle": "2024-05-02T20:15:39.782451Z",
     "shell.execute_reply": "2024-05-02T20:15:39.781675Z"
    },
    "papermill": {
     "duration": 0.016144,
     "end_time": "2024-05-02T20:15:39.784366",
     "exception": false,
     "start_time": "2024-05-02T20:15:39.768222",
     "status": "completed"
    },
    "tags": []
   },
   "outputs": [
    {
     "data": {
      "text/plain": [
       "1024"
      ]
     },
     "execution_count": 9,
     "metadata": {},
     "output_type": "execute_result"
    }
   ],
   "source": [
    "len(train.iloc[2].input_ids)"
   ]
  },
  {
   "cell_type": "code",
   "execution_count": 10,
   "id": "6d1a847f",
   "metadata": {
    "execution": {
     "iopub.execute_input": "2024-05-02T20:15:39.798716Z",
     "iopub.status.busy": "2024-05-02T20:15:39.797965Z",
     "iopub.status.idle": "2024-05-02T20:15:39.804031Z",
     "shell.execute_reply": "2024-05-02T20:15:39.802995Z"
    },
    "papermill": {
     "duration": 0.0156,
     "end_time": "2024-05-02T20:15:39.805958",
     "exception": false,
     "start_time": "2024-05-02T20:15:39.790358",
     "status": "completed"
    },
    "tags": []
   },
   "outputs": [
    {
     "name": "stdout",
     "output_type": "stream",
     "text": [
      "['B-EMAIL', 'B-ID_NUM', 'B-NAME_STUDENT', 'B-PHONE_NUM', 'B-STREET_ADDRESS', 'B-URL_PERSONAL', 'B-USERNAME', 'I-ID_NUM', 'I-NAME_STUDENT', 'I-PHONE_NUM', 'I-STREET_ADDRESS', 'I-URL_PERSONAL', 'O']\n"
     ]
    }
   ],
   "source": [
    "# Obtain all possible labels, along with a map between them and their ids\n",
    "LABELS = ['B-EMAIL', 'B-ID_NUM', 'B-NAME_STUDENT', 'B-PHONE_NUM', 'B-STREET_ADDRESS', \n",
    "          'B-URL_PERSONAL', 'B-USERNAME', 'I-ID_NUM', 'I-NAME_STUDENT', 'I-PHONE_NUM', \n",
    "          'I-STREET_ADDRESS', 'I-URL_PERSONAL', 'O']\n",
    "\n",
    "label2id = {l:i for i, l in enumerate(LABELS)}\n",
    "id2label = {i:l for i, l in enumerate(LABELS)}\n",
    "print(LABELS)"
   ]
  },
  {
   "cell_type": "markdown",
   "id": "fda50bca",
   "metadata": {
    "papermill": {
     "duration": 0.00592,
     "end_time": "2024-05-02T20:15:39.817934",
     "exception": false,
     "start_time": "2024-05-02T20:15:39.812014",
     "status": "completed"
    },
    "tags": []
   },
   "source": [
    "# Metrics\n"
   ]
  },
  {
   "cell_type": "code",
   "execution_count": 11,
   "id": "c4ae168d",
   "metadata": {
    "execution": {
     "iopub.execute_input": "2024-05-02T20:15:39.831167Z",
     "iopub.status.busy": "2024-05-02T20:15:39.830909Z",
     "iopub.status.idle": "2024-05-02T20:15:39.843448Z",
     "shell.execute_reply": "2024-05-02T20:15:39.842743Z"
    },
    "papermill": {
     "duration": 0.021224,
     "end_time": "2024-05-02T20:15:39.845233",
     "exception": false,
     "start_time": "2024-05-02T20:15:39.824009",
     "status": "completed"
    },
    "tags": []
   },
   "outputs": [],
   "source": [
    "# METRICS\n",
    "\n",
    "# Investigate adding some metrics to compute finer accuracies\n",
    "\n",
    "# now let's define the metrics we care about \n",
    "from seqeval.metrics import recall_score, precision_score\n",
    "\n",
    "def compute_metrics(p, all_labels):\n",
    "    predictions, labels = p\n",
    "    predictions = np.argmax(predictions, axis=2)\n",
    "\n",
    "    # Remove ignored index (special tokens)\n",
    "    true_predictions = [\n",
    "        [all_labels[p] for (p, l) in zip(prediction, label) if l != -100]\n",
    "        for prediction, label in zip(predictions, labels)\n",
    "    ]\n",
    "    true_labels = [\n",
    "        [all_labels[l] for (p, l) in zip(prediction, label) if l != -100]\n",
    "        for prediction, label in zip(predictions, labels)\n",
    "    ]\n",
    "    \n",
    "    recall = recall_score(true_labels, true_predictions)\n",
    "    precision = precision_score(true_labels, true_predictions)\n",
    "    f5_score = (1 + 5*5) * recall * precision / (5*5*precision + recall)\n",
    "    \n",
    "    results = {\n",
    "        'recall': recall,\n",
    "        'precision': precision,\n",
    "        'f5': f5_score\n",
    "    }\n",
    "    return results"
   ]
  },
  {
   "cell_type": "markdown",
   "id": "613bf971",
   "metadata": {
    "papermill": {
     "duration": 0.00622,
     "end_time": "2024-05-02T20:15:39.857711",
     "exception": false,
     "start_time": "2024-05-02T20:15:39.851491",
     "status": "completed"
    },
    "tags": []
   },
   "source": [
    "# Custom Loss\n"
   ]
  },
  {
   "cell_type": "code",
   "execution_count": 12,
   "id": "207562c2",
   "metadata": {
    "execution": {
     "iopub.execute_input": "2024-05-02T20:15:39.871894Z",
     "iopub.status.busy": "2024-05-02T20:15:39.871622Z",
     "iopub.status.idle": "2024-05-02T20:15:40.344025Z",
     "shell.execute_reply": "2024-05-02T20:15:40.342975Z"
    },
    "papermill": {
     "duration": 0.482185,
     "end_time": "2024-05-02T20:15:40.346152",
     "exception": false,
     "start_time": "2024-05-02T20:15:39.863967",
     "status": "completed"
    },
    "tags": []
   },
   "outputs": [
    {
     "name": "stdout",
     "output_type": "stream",
     "text": [
      "weights: tensor([1.0000, 1.0000, 1.0000, 1.0000, 1.0000, 1.0000, 1.0000, 1.0000, 1.0000,\n",
      "        1.0000, 1.0000, 1.0000, 0.0500], device='cuda:0')\n"
     ]
    }
   ],
   "source": [
    "# Implement custom loss function \n",
    "import torch.nn.functional as F\n",
    "\n",
    "penalty = .05 # raise this to penalize guesses of PII for non-PII labels more\n",
    "wts = torch.ones(len(LABELS))\n",
    "wts[-1] = penalty # weight last class\n",
    "wts = wts.to(device='cuda')\n",
    "print('weights:', wts)\n",
    "\n",
    "def custom_loss(preds, trues):\n",
    "    \"\"\"\n",
    "    cross-entropy loss, but if a token is NOT PII, the loss for the \n",
    "    corresponding prediction, instead of being -logsoftmax(logit), \n",
    "    is equal to penalty. \n",
    "    \n",
    "    This function will be applied to (logits, labels), i.e. we will\n",
    "    call custom_loss(logits, labels) in the training step; logits will \n",
    "    have shape bs x max_seq_len x num_labels, labels will have shape \n",
    "    bs x max_seq_len. \n",
    "    \n",
    "    It seems we can use just the built-in 'weight' parameter passed\n",
    "    to the cross_entropy function\n",
    "    \"\"\"\n",
    "    loss = F.cross_entropy(preds.permute(0,2,1), trues, \n",
    "                           weight=wts)\n",
    "    \n",
    "    return loss\n",
    "\n",
    "# subclass Trainer \n",
    "class CustomTrainer(Trainer):\n",
    "    def __init__(self, *args, **kwargs):\n",
    "        super().__init__(*args, **kwargs)\n",
    "        \n",
    "    def compute_loss(self, model, inputs, return_outputs=False):\n",
    "        # inputs is a dict with keys 'input_ids', a tensor representing the \n",
    "        # input sequence as a str of ints which are the vocabulary indices; \n",
    "        # token_type_ids and attention_mask, which seem irrelevant for the \n",
    "        # compute_loss function; and 'labels' which is the true values       \n",
    "        labels = inputs.pop('labels') # removes labels from inputs and assigns to new variable\n",
    "        outputs = model(**inputs)\n",
    "        logits = outputs[0]\n",
    "        loss = custom_loss(logits, labels)\n",
    "        \n",
    "        return (loss, outputs) if return_outputs else loss"
   ]
  },
  {
   "cell_type": "markdown",
   "id": "0ebd3459",
   "metadata": {
    "papermill": {
     "duration": 0.006077,
     "end_time": "2024-05-02T20:15:40.358647",
     "exception": false,
     "start_time": "2024-05-02T20:15:40.352570",
     "status": "completed"
    },
    "tags": []
   },
   "source": [
    "# Trainer Class"
   ]
  },
  {
   "cell_type": "code",
   "execution_count": 13,
   "id": "0c535408",
   "metadata": {
    "execution": {
     "iopub.execute_input": "2024-05-02T20:15:40.372701Z",
     "iopub.status.busy": "2024-05-02T20:15:40.372384Z",
     "iopub.status.idle": "2024-05-02T20:15:47.457321Z",
     "shell.execute_reply": "2024-05-02T20:15:47.456394Z"
    },
    "papermill": {
     "duration": 7.094667,
     "end_time": "2024-05-02T20:15:47.459610",
     "exception": false,
     "start_time": "2024-05-02T20:15:40.364943",
     "status": "completed"
    },
    "tags": []
   },
   "outputs": [
    {
     "data": {
      "application/vnd.jupyter.widget-view+json": {
       "model_id": "2806c1fe19c74fb9974d0f9c6fc463b0",
       "version_major": 2,
       "version_minor": 0
      },
      "text/plain": [
       "tokenizer_config.json:   0%|          | 0.00/52.0 [00:00<?, ?B/s]"
      ]
     },
     "metadata": {},
     "output_type": "display_data"
    },
    {
     "data": {
      "application/vnd.jupyter.widget-view+json": {
       "model_id": "62d26bcb264b4e0e95b8a9f55cbbb0a3",
       "version_major": 2,
       "version_minor": 0
      },
      "text/plain": [
       "config.json:   0%|          | 0.00/579 [00:00<?, ?B/s]"
      ]
     },
     "metadata": {},
     "output_type": "display_data"
    },
    {
     "data": {
      "application/vnd.jupyter.widget-view+json": {
       "model_id": "71626a13797041f6987d4c357a209b2f",
       "version_major": 2,
       "version_minor": 0
      },
      "text/plain": [
       "spm.model:   0%|          | 0.00/2.46M [00:00<?, ?B/s]"
      ]
     },
     "metadata": {},
     "output_type": "display_data"
    },
    {
     "name": "stderr",
     "output_type": "stream",
     "text": [
      "/opt/conda/lib/python3.10/site-packages/transformers/convert_slow_tokenizer.py:550: UserWarning: The sentencepiece tokenizer that you are converting to a fast tokenizer uses the byte fallback option which is not implemented in the fast tokenizers. In practice this means that the fast version of the tokenizer can produce unknown tokens whereas the sentencepiece version would have converted these unknown tokens into a sequence of byte tokens matching the original piece of text.\n",
      "  warnings.warn(\n"
     ]
    },
    {
     "data": {
      "application/vnd.jupyter.widget-view+json": {
       "model_id": "d57b77f9af0647168a41791d1bb5d4ba",
       "version_major": 2,
       "version_minor": 0
      },
      "text/plain": [
       "pytorch_model.bin:   0%|          | 0.00/371M [00:00<?, ?B/s]"
      ]
     },
     "metadata": {},
     "output_type": "display_data"
    },
    {
     "name": "stderr",
     "output_type": "stream",
     "text": [
      "/opt/conda/lib/python3.10/site-packages/torch/_utils.py:831: UserWarning: TypedStorage is deprecated. It will be removed in the future and UntypedStorage will be the only storage class. This should only matter to you if you are using storages directly.  To access UntypedStorage directly, use tensor.untyped_storage() instead of tensor.storage()\n",
      "  return self.fget.__get__(instance, owner)()\n",
      "Some weights of DebertaV2ForTokenClassification were not initialized from the model checkpoint at microsoft/deberta-v3-base and are newly initialized: ['classifier.bias', 'classifier.weight']\n",
      "You should probably TRAIN this model on a down-stream task to be able to use it for predictions and inference.\n",
      "/opt/conda/lib/python3.10/site-packages/accelerate/accelerator.py:436: FutureWarning: Passing the following arguments to `Accelerator` is deprecated and will be removed in version 1.0 of Accelerate: dict_keys(['dispatch_batches', 'split_batches', 'even_batches', 'use_seedable_sampler']). Please pass an `accelerate.DataLoaderConfiguration` instead: \n",
      "dataloader_config = DataLoaderConfiguration(dispatch_batches=None, split_batches=False, even_batches=True, use_seedable_sampler=True)\n",
      "  warnings.warn(\n"
     ]
    }
   ],
   "source": [
    "# COLLATE: For batches\n",
    "tokenizer = AutoTokenizer.from_pretrained(TRAINING_MODEL_PATH)\n",
    "collator = DataCollatorForTokenClassification(tokenizer, pad_to_multiple_of=16)\n",
    "\n",
    "# training args, args setup\n",
    "lr, epochs = 2e-5, 5\n",
    "bs, wd = 4, 0.01\n",
    "\n",
    "# model import and training \n",
    "# define model\n",
    "model = AutoModelForTokenClassification.from_pretrained(\n",
    "    TRAINING_MODEL_PATH,\n",
    "    num_labels=len(LABELS),\n",
    "    id2label=id2label,\n",
    "    label2id=label2id,\n",
    "    ignore_mismatched_sizes=True\n",
    ")\n",
    "\n",
    "class CustomCallback(TrainerCallback):\n",
    "    \n",
    "    def __init__(self, trainer) -> None:\n",
    "        super().__init__()\n",
    "        self._trainer = trainer\n",
    "    \n",
    "    def on_epoch_end(self, args, state, control, **kwargs):\n",
    "        if control.should_evaluate:\n",
    "            control_copy = copy.deepcopy(control)\n",
    "            self._trainer.evaluate(eval_dataset=self._trainer.train_dataset, metric_key_prefix=\"train\")\n",
    "            return control_copy\n",
    "\n",
    "args = TrainingArguments(\n",
    "    output_dir=OUTPUT_DIR, \n",
    "    fp16=True,\n",
    "    learning_rate=lr,\n",
    "    num_train_epochs=epochs,\n",
    "    per_device_train_batch_size=bs,\n",
    "    gradient_accumulation_steps=2,\n",
    "    report_to=\"none\",\n",
    "    evaluation_strategy=\"epoch\",\n",
    "    logging_strategy=\"epoch\",\n",
    "    do_eval=False,\n",
    "    save_total_limit=1,\n",
    "    logging_steps=20,\n",
    "    lr_scheduler_type='cosine',\n",
    "    metric_for_best_model=\"f5\",\n",
    "    greater_is_better=True,\n",
    "    warmup_ratio=0.1,\n",
    "    weight_decay=wd\n",
    ")\n",
    "\n",
    "trainer = CustomTrainer(\n",
    "    model=model, \n",
    "    args=args, \n",
    "    train_dataset=ds_train,\n",
    "    eval_dataset=ds_test,\n",
    "    data_collator=collator, \n",
    "    tokenizer=tokenizer,\n",
    "    compute_metrics=partial(compute_metrics, all_labels=LABELS),\n",
    ")\n",
    "\n",
    "trainer.add_callback(CustomCallback(trainer)) "
   ]
  },
  {
   "cell_type": "markdown",
   "id": "fb1a5a46",
   "metadata": {},
   "source": [
    "# Train and Save Results"
   ]
  },
  {
   "cell_type": "code",
   "execution_count": 14,
   "id": "38800eff",
   "metadata": {
    "execution": {
     "iopub.execute_input": "2024-05-02T20:15:47.477553Z",
     "iopub.status.busy": "2024-05-02T20:15:47.477252Z",
     "iopub.status.idle": "2024-05-02T22:28:20.532140Z",
     "shell.execute_reply": "2024-05-02T22:28:20.531095Z"
    },
    "papermill": {
     "duration": 7953.066335,
     "end_time": "2024-05-02T22:28:20.534435",
     "exception": false,
     "start_time": "2024-05-02T20:15:47.468100",
     "status": "completed"
    },
    "tags": []
   },
   "outputs": [
    {
     "data": {
      "text/html": [
       "\n",
       "    <div>\n",
       "      \n",
       "      <progress value='1595' max='1595' style='width:300px; height:20px; vertical-align: middle;'></progress>\n",
       "      [1595/1595 2:12:26, Epoch 4/5]\n",
       "    </div>\n",
       "    <table border=\"1\" class=\"dataframe\">\n",
       "  <thead>\n",
       " <tr style=\"text-align: left;\">\n",
       "      <th>Epoch</th>\n",
       "      <th>Training Loss</th>\n",
       "      <th>Validation Loss</th>\n",
       "      <th>Recall</th>\n",
       "      <th>Precision</th>\n",
       "      <th>F5</th>\n",
       "    </tr>\n",
       "  </thead>\n",
       "  <tbody>\n",
       "    <tr>\n",
       "      <td>0</td>\n",
       "      <td>0.368600</td>\n",
       "      <td>0.010856</td>\n",
       "      <td>0.864350</td>\n",
       "      <td>0.572383</td>\n",
       "      <td>0.847719</td>\n",
       "    </tr>\n",
       "    <tr>\n",
       "      <td>2</td>\n",
       "      <td>0.021800</td>\n",
       "      <td>0.010075</td>\n",
       "      <td>0.912556</td>\n",
       "      <td>0.685185</td>\n",
       "      <td>0.901056</td>\n",
       "    </tr>\n",
       "    <tr>\n",
       "      <td>4</td>\n",
       "      <td>0.006600</td>\n",
       "      <td>0.011208</td>\n",
       "      <td>0.939462</td>\n",
       "      <td>0.771639</td>\n",
       "      <td>0.931669</td>\n",
       "    </tr>\n",
       "  </tbody>\n",
       "</table><p>"
      ],
      "text/plain": [
       "<IPython.core.display.HTML object>"
      ]
     },
     "metadata": {},
     "output_type": "display_data"
    }
   ],
   "source": [
    "train_result = trainer.train()"
   ]
  },
  {
   "cell_type": "code",
   "execution_count": 15,
   "id": "4c3938eb",
   "metadata": {
    "execution": {
     "iopub.execute_input": "2024-05-02T22:28:20.553654Z",
     "iopub.status.busy": "2024-05-02T22:28:20.552923Z",
     "iopub.status.idle": "2024-05-02T22:28:20.563741Z",
     "shell.execute_reply": "2024-05-02T22:28:20.562835Z"
    },
    "papermill": {
     "duration": 0.022942,
     "end_time": "2024-05-02T22:28:20.565993",
     "exception": false,
     "start_time": "2024-05-02T22:28:20.543051",
     "status": "completed"
    },
    "tags": []
   },
   "outputs": [
    {
     "data": {
      "text/plain": [
       "[{'train_loss': 0.014266738668084145,\n",
       "  'train_recall': 0.8384118190212373,\n",
       "  'train_precision': 0.7071651090342679,\n",
       "  'train_f5': 0.8324694100638246,\n",
       "  'train_runtime': 423.7117,\n",
       "  'train_samples_per_second': 12.048,\n",
       "  'train_steps_per_second': 0.755,\n",
       "  'epoch': 1.0,\n",
       "  'step': 319},\n",
       " {'loss': 0.3686,\n",
       "  'grad_norm': 555.7958374023438,\n",
       "  'learning_rate': 1.9400249635128575e-05,\n",
       "  'epoch': 1.0,\n",
       "  'step': 319},\n",
       " {'eval_loss': 0.01085563562810421,\n",
       "  'eval_recall': 0.8643497757847534,\n",
       "  'eval_precision': 0.5723830734966593,\n",
       "  'eval_f5': 0.8477185266630016,\n",
       "  'eval_runtime': 140.6644,\n",
       "  'eval_samples_per_second': 12.1,\n",
       "  'eval_steps_per_second': 0.761,\n",
       "  'epoch': 1.0,\n",
       "  'step': 319},\n",
       " {'train_loss': 0.017717411741614342,\n",
       "  'train_recall': 0.8325638658048631,\n",
       "  'train_precision': 0.9080228264518295,\n",
       "  'train_f5': 0.8352334805947461,\n",
       "  'train_runtime': 424.2324,\n",
       "  'train_samples_per_second': 12.033,\n",
       "  'train_steps_per_second': 0.754,\n",
       "  'epoch': 2.0,\n",
       "  'step': 639},\n",
       " {'loss': 0.0315,\n",
       "  'grad_norm': 3.2495267391204834,\n",
       "  'learning_rate': 1.4987354962249749e-05,\n",
       "  'epoch': 2.0,\n",
       "  'step': 639},\n",
       " {'eval_loss': 0.017101390287280083,\n",
       "  'eval_recall': 0.8497757847533632,\n",
       "  'eval_precision': 0.8357221609702316,\n",
       "  'eval_f5': 0.8492265264790797,\n",
       "  'eval_runtime': 140.8672,\n",
       "  'eval_samples_per_second': 12.082,\n",
       "  'eval_steps_per_second': 0.76,\n",
       "  'epoch': 2.0,\n",
       "  'step': 639},\n",
       " {'train_loss': 0.004743982572108507,\n",
       "  'train_recall': 0.9526008002462296,\n",
       "  'train_precision': 0.8755304101838756,\n",
       "  'train_f5': 0.9493865030674847,\n",
       "  'train_runtime': 424.9089,\n",
       "  'train_samples_per_second': 12.014,\n",
       "  'train_steps_per_second': 0.753,\n",
       "  'epoch': 3.0,\n",
       "  'step': 958},\n",
       " {'loss': 0.0218,\n",
       "  'grad_norm': 0.25216907262802124,\n",
       "  'learning_rate': 8.246751833888122e-06,\n",
       "  'epoch': 3.0,\n",
       "  'step': 958},\n",
       " {'eval_loss': 0.010074819438159466,\n",
       "  'eval_recall': 0.9125560538116592,\n",
       "  'eval_precision': 0.6851851851851852,\n",
       "  'eval_f5': 0.9010558583106268,\n",
       "  'eval_runtime': 140.7227,\n",
       "  'eval_samples_per_second': 12.095,\n",
       "  'eval_steps_per_second': 0.76,\n",
       "  'epoch': 3.0,\n",
       "  'step': 958},\n",
       " {'train_loss': 0.0030599329620599747,\n",
       "  'train_recall': 0.987072945521699,\n",
       "  'train_precision': 0.9005897219882055,\n",
       "  'train_f5': 0.9834406623735049,\n",
       "  'train_runtime': 424.9734,\n",
       "  'train_samples_per_second': 12.013,\n",
       "  'train_steps_per_second': 0.753,\n",
       "  'epoch': 4.0,\n",
       "  'step': 1278},\n",
       " {'loss': 0.0074,\n",
       "  'grad_norm': 0.12252764403820038,\n",
       "  'learning_rate': 2.3130401086107247e-06,\n",
       "  'epoch': 4.0,\n",
       "  'step': 1278},\n",
       " {'eval_loss': 0.00796650443226099,\n",
       "  'eval_recall': 0.9697309417040358,\n",
       "  'eval_precision': 0.7275021026072329,\n",
       "  'eval_f5': 0.9574694537868789,\n",
       "  'eval_runtime': 140.7466,\n",
       "  'eval_samples_per_second': 12.093,\n",
       "  'eval_steps_per_second': 0.76,\n",
       "  'epoch': 4.0,\n",
       "  'step': 1278},\n",
       " {'train_loss': 0.0031528782565146685,\n",
       "  'train_recall': 0.979378270236996,\n",
       "  'train_precision': 0.9231215549753409,\n",
       "  'train_f5': 0.9770880574452002,\n",
       "  'train_runtime': 423.4065,\n",
       "  'train_samples_per_second': 12.057,\n",
       "  'train_steps_per_second': 0.756,\n",
       "  'epoch': 4.99,\n",
       "  'step': 1595},\n",
       " {'loss': 0.0066,\n",
       "  'grad_norm': 20.309682846069336,\n",
       "  'learning_rate': 0.0,\n",
       "  'epoch': 4.99,\n",
       "  'step': 1595},\n",
       " {'eval_loss': 0.011207561939954758,\n",
       "  'eval_recall': 0.9394618834080718,\n",
       "  'eval_precision': 0.7716390423572744,\n",
       "  'eval_f5': 0.9316685196271274,\n",
       "  'eval_runtime': 140.9797,\n",
       "  'eval_samples_per_second': 12.073,\n",
       "  'eval_steps_per_second': 0.759,\n",
       "  'epoch': 4.99,\n",
       "  'step': 1595},\n",
       " {'train_runtime': 7952.5828,\n",
       "  'train_samples_per_second': 3.21,\n",
       "  'train_steps_per_second': 0.201,\n",
       "  'total_flos': 1.277270633407872e+16,\n",
       "  'train_loss': 0.0871829644265967,\n",
       "  'epoch': 4.99,\n",
       "  'step': 1595}]"
      ]
     },
     "execution_count": 15,
     "metadata": {},
     "output_type": "execute_result"
    }
   ],
   "source": [
    "trainer.state.log_history"
   ]
  },
  {
   "cell_type": "code",
   "execution_count": 16,
   "id": "59b6bd27",
   "metadata": {
    "execution": {
     "iopub.execute_input": "2024-05-02T22:28:20.585330Z",
     "iopub.status.busy": "2024-05-02T22:28:20.585011Z",
     "iopub.status.idle": "2024-05-02T22:28:22.410651Z",
     "shell.execute_reply": "2024-05-02T22:28:22.409556Z"
    },
    "papermill": {
     "duration": 1.838029,
     "end_time": "2024-05-02T22:28:22.413031",
     "exception": false,
     "start_time": "2024-05-02T22:28:20.575002",
     "status": "completed"
    },
    "tags": []
   },
   "outputs": [
    {
     "data": {
      "text/plain": [
       "('deberta_opttrunc1/tokenizer_config.json',\n",
       " 'deberta_opttrunc1/special_tokens_map.json',\n",
       " 'deberta_opttrunc1/spm.model',\n",
       " 'deberta_opttrunc1/added_tokens.json',\n",
       " 'deberta_opttrunc1/tokenizer.json')"
      ]
     },
     "execution_count": 16,
     "metadata": {},
     "output_type": "execute_result"
    }
   ],
   "source": [
    "trainer.save_model(\"deberta_opttrunc1\")\n",
    "tokenizer.save_pretrained(\"deberta_opttrunc1\")"
   ]
  }
 ],
 "metadata": {
  "kaggle": {
   "accelerator": "nvidiaTeslaT4",
   "dataSources": [
    {
     "databundleVersionId": 7500999,
     "sourceId": 66653,
     "sourceType": "competition"
    },
    {
     "sourceId": 175309448,
     "sourceType": "kernelVersion"
    }
   ],
   "dockerImageVersionId": 30699,
   "isGpuEnabled": true,
   "isInternetEnabled": true,
   "language": "python",
   "sourceType": "notebook"
  },
  "kernelspec": {
   "display_name": "Python 3 (ipykernel)",
   "language": "python",
   "name": "python3"
  },
  "language_info": {
   "codemirror_mode": {
    "name": "ipython",
    "version": 3
   },
   "file_extension": ".py",
   "mimetype": "text/x-python",
   "name": "python",
   "nbconvert_exporter": "python",
   "pygments_lexer": "ipython3",
   "version": "3.11.4"
  },
  "papermill": {
   "default_parameters": {},
   "duration": 8096.872428,
   "end_time": "2024-05-02T22:28:26.190218",
   "environment_variables": {},
   "exception": null,
   "input_path": "__notebook__.ipynb",
   "output_path": "__notebook__.ipynb",
   "parameters": {},
   "start_time": "2024-05-02T20:13:29.317790",
   "version": "2.5.0"
  },
  "widgets": {
   "application/vnd.jupyter.widget-state+json": {
    "state": {
     "02907e2bcc3349d6ba4454da9cec68b1": {
      "model_module": "@jupyter-widgets/controls",
      "model_module_version": "1.5.0",
      "model_name": "HTMLModel",
      "state": {
       "_dom_classes": [],
       "_model_module": "@jupyter-widgets/controls",
       "_model_module_version": "1.5.0",
       "_model_name": "HTMLModel",
       "_view_count": null,
       "_view_module": "@jupyter-widgets/controls",
       "_view_module_version": "1.5.0",
       "_view_name": "HTMLView",
       "description": "",
       "description_tooltip": null,
       "layout": "IPY_MODEL_9c9c6919dd984985b341964cf5b86369",
       "placeholder": "​",
       "style": "IPY_MODEL_f02b58197666494ca2e0221718324dbd",
       "value": " 2.46M/2.46M [00:00&lt;00:00, 10.2MB/s]"
      }
     },
     "0dc776205d1d4f148c900a44f55b2c6a": {
      "model_module": "@jupyter-widgets/controls",
      "model_module_version": "1.5.0",
      "model_name": "DescriptionStyleModel",
      "state": {
       "_model_module": "@jupyter-widgets/controls",
       "_model_module_version": "1.5.0",
       "_model_name": "DescriptionStyleModel",
       "_view_count": null,
       "_view_module": "@jupyter-widgets/base",
       "_view_module_version": "1.2.0",
       "_view_name": "StyleView",
       "description_width": ""
      }
     },
     "0e40f527ebb3440d9edf77f39bb1f6c4": {
      "model_module": "@jupyter-widgets/controls",
      "model_module_version": "1.5.0",
      "model_name": "ProgressStyleModel",
      "state": {
       "_model_module": "@jupyter-widgets/controls",
       "_model_module_version": "1.5.0",
       "_model_name": "ProgressStyleModel",
       "_view_count": null,
       "_view_module": "@jupyter-widgets/base",
       "_view_module_version": "1.2.0",
       "_view_name": "StyleView",
       "bar_color": null,
       "description_width": ""
      }
     },
     "1407643afc5e4592bed3bb2766ed639d": {
      "model_module": "@jupyter-widgets/base",
      "model_module_version": "1.2.0",
      "model_name": "LayoutModel",
      "state": {
       "_model_module": "@jupyter-widgets/base",
       "_model_module_version": "1.2.0",
       "_model_name": "LayoutModel",
       "_view_count": null,
       "_view_module": "@jupyter-widgets/base",
       "_view_module_version": "1.2.0",
       "_view_name": "LayoutView",
       "align_content": null,
       "align_items": null,
       "align_self": null,
       "border": null,
       "bottom": null,
       "display": null,
       "flex": null,
       "flex_flow": null,
       "grid_area": null,
       "grid_auto_columns": null,
       "grid_auto_flow": null,
       "grid_auto_rows": null,
       "grid_column": null,
       "grid_gap": null,
       "grid_row": null,
       "grid_template_areas": null,
       "grid_template_columns": null,
       "grid_template_rows": null,
       "height": null,
       "justify_content": null,
       "justify_items": null,
       "left": null,
       "margin": null,
       "max_height": null,
       "max_width": null,
       "min_height": null,
       "min_width": null,
       "object_fit": null,
       "object_position": null,
       "order": null,
       "overflow": null,
       "overflow_x": null,
       "overflow_y": null,
       "padding": null,
       "right": null,
       "top": null,
       "visibility": null,
       "width": null
      }
     },
     "16783c754ff4447b9d8ece06792d1ee3": {
      "model_module": "@jupyter-widgets/controls",
      "model_module_version": "1.5.0",
      "model_name": "HTMLModel",
      "state": {
       "_dom_classes": [],
       "_model_module": "@jupyter-widgets/controls",
       "_model_module_version": "1.5.0",
       "_model_name": "HTMLModel",
       "_view_count": null,
       "_view_module": "@jupyter-widgets/controls",
       "_view_module_version": "1.5.0",
       "_view_name": "HTMLView",
       "description": "",
       "description_tooltip": null,
       "layout": "IPY_MODEL_246137225f764b9b96fa83a7c90a02fc",
       "placeholder": "​",
       "style": "IPY_MODEL_d19f928621324169a99e82d55692fb43",
       "value": "spm.model: 100%"
      }
     },
     "182f67bf2c604e4e8dedddc91d855bf6": {
      "model_module": "@jupyter-widgets/controls",
      "model_module_version": "1.5.0",
      "model_name": "ProgressStyleModel",
      "state": {
       "_model_module": "@jupyter-widgets/controls",
       "_model_module_version": "1.5.0",
       "_model_name": "ProgressStyleModel",
       "_view_count": null,
       "_view_module": "@jupyter-widgets/base",
       "_view_module_version": "1.2.0",
       "_view_name": "StyleView",
       "bar_color": null,
       "description_width": ""
      }
     },
     "18f14eb3b92e472a8716d55694fa250f": {
      "model_module": "@jupyter-widgets/controls",
      "model_module_version": "1.5.0",
      "model_name": "ProgressStyleModel",
      "state": {
       "_model_module": "@jupyter-widgets/controls",
       "_model_module_version": "1.5.0",
       "_model_name": "ProgressStyleModel",
       "_view_count": null,
       "_view_module": "@jupyter-widgets/base",
       "_view_module_version": "1.2.0",
       "_view_name": "StyleView",
       "bar_color": null,
       "description_width": ""
      }
     },
     "1c857dd4286e40f0ae5d601d255bb2af": {
      "model_module": "@jupyter-widgets/base",
      "model_module_version": "1.2.0",
      "model_name": "LayoutModel",
      "state": {
       "_model_module": "@jupyter-widgets/base",
       "_model_module_version": "1.2.0",
       "_model_name": "LayoutModel",
       "_view_count": null,
       "_view_module": "@jupyter-widgets/base",
       "_view_module_version": "1.2.0",
       "_view_name": "LayoutView",
       "align_content": null,
       "align_items": null,
       "align_self": null,
       "border": null,
       "bottom": null,
       "display": null,
       "flex": null,
       "flex_flow": null,
       "grid_area": null,
       "grid_auto_columns": null,
       "grid_auto_flow": null,
       "grid_auto_rows": null,
       "grid_column": null,
       "grid_gap": null,
       "grid_row": null,
       "grid_template_areas": null,
       "grid_template_columns": null,
       "grid_template_rows": null,
       "height": null,
       "justify_content": null,
       "justify_items": null,
       "left": null,
       "margin": null,
       "max_height": null,
       "max_width": null,
       "min_height": null,
       "min_width": null,
       "object_fit": null,
       "object_position": null,
       "order": null,
       "overflow": null,
       "overflow_x": null,
       "overflow_y": null,
       "padding": null,
       "right": null,
       "top": null,
       "visibility": null,
       "width": null
      }
     },
     "246137225f764b9b96fa83a7c90a02fc": {
      "model_module": "@jupyter-widgets/base",
      "model_module_version": "1.2.0",
      "model_name": "LayoutModel",
      "state": {
       "_model_module": "@jupyter-widgets/base",
       "_model_module_version": "1.2.0",
       "_model_name": "LayoutModel",
       "_view_count": null,
       "_view_module": "@jupyter-widgets/base",
       "_view_module_version": "1.2.0",
       "_view_name": "LayoutView",
       "align_content": null,
       "align_items": null,
       "align_self": null,
       "border": null,
       "bottom": null,
       "display": null,
       "flex": null,
       "flex_flow": null,
       "grid_area": null,
       "grid_auto_columns": null,
       "grid_auto_flow": null,
       "grid_auto_rows": null,
       "grid_column": null,
       "grid_gap": null,
       "grid_row": null,
       "grid_template_areas": null,
       "grid_template_columns": null,
       "grid_template_rows": null,
       "height": null,
       "justify_content": null,
       "justify_items": null,
       "left": null,
       "margin": null,
       "max_height": null,
       "max_width": null,
       "min_height": null,
       "min_width": null,
       "object_fit": null,
       "object_position": null,
       "order": null,
       "overflow": null,
       "overflow_x": null,
       "overflow_y": null,
       "padding": null,
       "right": null,
       "top": null,
       "visibility": null,
       "width": null
      }
     },
     "2806c1fe19c74fb9974d0f9c6fc463b0": {
      "model_module": "@jupyter-widgets/controls",
      "model_module_version": "1.5.0",
      "model_name": "HBoxModel",
      "state": {
       "_dom_classes": [],
       "_model_module": "@jupyter-widgets/controls",
       "_model_module_version": "1.5.0",
       "_model_name": "HBoxModel",
       "_view_count": null,
       "_view_module": "@jupyter-widgets/controls",
       "_view_module_version": "1.5.0",
       "_view_name": "HBoxView",
       "box_style": "",
       "children": [
        "IPY_MODEL_3f2215a56f2a44ce8a462a07250e8873",
        "IPY_MODEL_7ec60955edd64ce5b8460c74875dad20",
        "IPY_MODEL_dd8fe9aadda4422dbcdfa125323a8a14"
       ],
       "layout": "IPY_MODEL_910d0ddd1c5245b5a3cf464162b81be7"
      }
     },
     "3527bf59d7cd4b0aa1e3c4acd3a36f9f": {
      "model_module": "@jupyter-widgets/controls",
      "model_module_version": "1.5.0",
      "model_name": "DescriptionStyleModel",
      "state": {
       "_model_module": "@jupyter-widgets/controls",
       "_model_module_version": "1.5.0",
       "_model_name": "DescriptionStyleModel",
       "_view_count": null,
       "_view_module": "@jupyter-widgets/base",
       "_view_module_version": "1.2.0",
       "_view_name": "StyleView",
       "description_width": ""
      }
     },
     "3a0f5fb027a44fa98b4e114590a0775f": {
      "model_module": "@jupyter-widgets/controls",
      "model_module_version": "1.5.0",
      "model_name": "DescriptionStyleModel",
      "state": {
       "_model_module": "@jupyter-widgets/controls",
       "_model_module_version": "1.5.0",
       "_model_name": "DescriptionStyleModel",
       "_view_count": null,
       "_view_module": "@jupyter-widgets/base",
       "_view_module_version": "1.2.0",
       "_view_name": "StyleView",
       "description_width": ""
      }
     },
     "3f2215a56f2a44ce8a462a07250e8873": {
      "model_module": "@jupyter-widgets/controls",
      "model_module_version": "1.5.0",
      "model_name": "HTMLModel",
      "state": {
       "_dom_classes": [],
       "_model_module": "@jupyter-widgets/controls",
       "_model_module_version": "1.5.0",
       "_model_name": "HTMLModel",
       "_view_count": null,
       "_view_module": "@jupyter-widgets/controls",
       "_view_module_version": "1.5.0",
       "_view_name": "HTMLView",
       "description": "",
       "description_tooltip": null,
       "layout": "IPY_MODEL_5361cd199dd349c08b189a68e325f1b2",
       "placeholder": "​",
       "style": "IPY_MODEL_3527bf59d7cd4b0aa1e3c4acd3a36f9f",
       "value": "tokenizer_config.json: 100%"
      }
     },
     "403579cef73a43c0bd1f16faa93d545b": {
      "model_module": "@jupyter-widgets/base",
      "model_module_version": "1.2.0",
      "model_name": "LayoutModel",
      "state": {
       "_model_module": "@jupyter-widgets/base",
       "_model_module_version": "1.2.0",
       "_model_name": "LayoutModel",
       "_view_count": null,
       "_view_module": "@jupyter-widgets/base",
       "_view_module_version": "1.2.0",
       "_view_name": "LayoutView",
       "align_content": null,
       "align_items": null,
       "align_self": null,
       "border": null,
       "bottom": null,
       "display": null,
       "flex": null,
       "flex_flow": null,
       "grid_area": null,
       "grid_auto_columns": null,
       "grid_auto_flow": null,
       "grid_auto_rows": null,
       "grid_column": null,
       "grid_gap": null,
       "grid_row": null,
       "grid_template_areas": null,
       "grid_template_columns": null,
       "grid_template_rows": null,
       "height": null,
       "justify_content": null,
       "justify_items": null,
       "left": null,
       "margin": null,
       "max_height": null,
       "max_width": null,
       "min_height": null,
       "min_width": null,
       "object_fit": null,
       "object_position": null,
       "order": null,
       "overflow": null,
       "overflow_x": null,
       "overflow_y": null,
       "padding": null,
       "right": null,
       "top": null,
       "visibility": null,
       "width": null
      }
     },
     "5361cd199dd349c08b189a68e325f1b2": {
      "model_module": "@jupyter-widgets/base",
      "model_module_version": "1.2.0",
      "model_name": "LayoutModel",
      "state": {
       "_model_module": "@jupyter-widgets/base",
       "_model_module_version": "1.2.0",
       "_model_name": "LayoutModel",
       "_view_count": null,
       "_view_module": "@jupyter-widgets/base",
       "_view_module_version": "1.2.0",
       "_view_name": "LayoutView",
       "align_content": null,
       "align_items": null,
       "align_self": null,
       "border": null,
       "bottom": null,
       "display": null,
       "flex": null,
       "flex_flow": null,
       "grid_area": null,
       "grid_auto_columns": null,
       "grid_auto_flow": null,
       "grid_auto_rows": null,
       "grid_column": null,
       "grid_gap": null,
       "grid_row": null,
       "grid_template_areas": null,
       "grid_template_columns": null,
       "grid_template_rows": null,
       "height": null,
       "justify_content": null,
       "justify_items": null,
       "left": null,
       "margin": null,
       "max_height": null,
       "max_width": null,
       "min_height": null,
       "min_width": null,
       "object_fit": null,
       "object_position": null,
       "order": null,
       "overflow": null,
       "overflow_x": null,
       "overflow_y": null,
       "padding": null,
       "right": null,
       "top": null,
       "visibility": null,
       "width": null
      }
     },
     "62d26bcb264b4e0e95b8a9f55cbbb0a3": {
      "model_module": "@jupyter-widgets/controls",
      "model_module_version": "1.5.0",
      "model_name": "HBoxModel",
      "state": {
       "_dom_classes": [],
       "_model_module": "@jupyter-widgets/controls",
       "_model_module_version": "1.5.0",
       "_model_name": "HBoxModel",
       "_view_count": null,
       "_view_module": "@jupyter-widgets/controls",
       "_view_module_version": "1.5.0",
       "_view_name": "HBoxView",
       "box_style": "",
       "children": [
        "IPY_MODEL_e05b8751b81e4bb685f96daf712bd14f",
        "IPY_MODEL_c49b22e81243461fad16ffac5ed60e6a",
        "IPY_MODEL_b2b98dfac4b443878408333b81bfe310"
       ],
       "layout": "IPY_MODEL_7aeb4f5a9a124425b373741e460fd65f"
      }
     },
     "67c6f0d2da844534ad6390f9e03b8f92": {
      "model_module": "@jupyter-widgets/controls",
      "model_module_version": "1.5.0",
      "model_name": "DescriptionStyleModel",
      "state": {
       "_model_module": "@jupyter-widgets/controls",
       "_model_module_version": "1.5.0",
       "_model_name": "DescriptionStyleModel",
       "_view_count": null,
       "_view_module": "@jupyter-widgets/base",
       "_view_module_version": "1.2.0",
       "_view_name": "StyleView",
       "description_width": ""
      }
     },
     "71626a13797041f6987d4c357a209b2f": {
      "model_module": "@jupyter-widgets/controls",
      "model_module_version": "1.5.0",
      "model_name": "HBoxModel",
      "state": {
       "_dom_classes": [],
       "_model_module": "@jupyter-widgets/controls",
       "_model_module_version": "1.5.0",
       "_model_name": "HBoxModel",
       "_view_count": null,
       "_view_module": "@jupyter-widgets/controls",
       "_view_module_version": "1.5.0",
       "_view_name": "HBoxView",
       "box_style": "",
       "children": [
        "IPY_MODEL_16783c754ff4447b9d8ece06792d1ee3",
        "IPY_MODEL_ab6c6bef498f4bc7bcf59dbe13469d7d",
        "IPY_MODEL_02907e2bcc3349d6ba4454da9cec68b1"
       ],
       "layout": "IPY_MODEL_d36bfbde420c45c38966c7a85414402e"
      }
     },
     "7aeb4f5a9a124425b373741e460fd65f": {
      "model_module": "@jupyter-widgets/base",
      "model_module_version": "1.2.0",
      "model_name": "LayoutModel",
      "state": {
       "_model_module": "@jupyter-widgets/base",
       "_model_module_version": "1.2.0",
       "_model_name": "LayoutModel",
       "_view_count": null,
       "_view_module": "@jupyter-widgets/base",
       "_view_module_version": "1.2.0",
       "_view_name": "LayoutView",
       "align_content": null,
       "align_items": null,
       "align_self": null,
       "border": null,
       "bottom": null,
       "display": null,
       "flex": null,
       "flex_flow": null,
       "grid_area": null,
       "grid_auto_columns": null,
       "grid_auto_flow": null,
       "grid_auto_rows": null,
       "grid_column": null,
       "grid_gap": null,
       "grid_row": null,
       "grid_template_areas": null,
       "grid_template_columns": null,
       "grid_template_rows": null,
       "height": null,
       "justify_content": null,
       "justify_items": null,
       "left": null,
       "margin": null,
       "max_height": null,
       "max_width": null,
       "min_height": null,
       "min_width": null,
       "object_fit": null,
       "object_position": null,
       "order": null,
       "overflow": null,
       "overflow_x": null,
       "overflow_y": null,
       "padding": null,
       "right": null,
       "top": null,
       "visibility": null,
       "width": null
      }
     },
     "7ec60955edd64ce5b8460c74875dad20": {
      "model_module": "@jupyter-widgets/controls",
      "model_module_version": "1.5.0",
      "model_name": "FloatProgressModel",
      "state": {
       "_dom_classes": [],
       "_model_module": "@jupyter-widgets/controls",
       "_model_module_version": "1.5.0",
       "_model_name": "FloatProgressModel",
       "_view_count": null,
       "_view_module": "@jupyter-widgets/controls",
       "_view_module_version": "1.5.0",
       "_view_name": "ProgressView",
       "bar_style": "success",
       "description": "",
       "description_tooltip": null,
       "layout": "IPY_MODEL_d651fc95da8845f2ac293ce1c397c9c1",
       "max": 52,
       "min": 0,
       "orientation": "horizontal",
       "style": "IPY_MODEL_182f67bf2c604e4e8dedddc91d855bf6",
       "value": 52
      }
     },
     "8bad68d36a654231bb402649219acb1a": {
      "model_module": "@jupyter-widgets/base",
      "model_module_version": "1.2.0",
      "model_name": "LayoutModel",
      "state": {
       "_model_module": "@jupyter-widgets/base",
       "_model_module_version": "1.2.0",
       "_model_name": "LayoutModel",
       "_view_count": null,
       "_view_module": "@jupyter-widgets/base",
       "_view_module_version": "1.2.0",
       "_view_name": "LayoutView",
       "align_content": null,
       "align_items": null,
       "align_self": null,
       "border": null,
       "bottom": null,
       "display": null,
       "flex": null,
       "flex_flow": null,
       "grid_area": null,
       "grid_auto_columns": null,
       "grid_auto_flow": null,
       "grid_auto_rows": null,
       "grid_column": null,
       "grid_gap": null,
       "grid_row": null,
       "grid_template_areas": null,
       "grid_template_columns": null,
       "grid_template_rows": null,
       "height": null,
       "justify_content": null,
       "justify_items": null,
       "left": null,
       "margin": null,
       "max_height": null,
       "max_width": null,
       "min_height": null,
       "min_width": null,
       "object_fit": null,
       "object_position": null,
       "order": null,
       "overflow": null,
       "overflow_x": null,
       "overflow_y": null,
       "padding": null,
       "right": null,
       "top": null,
       "visibility": null,
       "width": null
      }
     },
     "910d0ddd1c5245b5a3cf464162b81be7": {
      "model_module": "@jupyter-widgets/base",
      "model_module_version": "1.2.0",
      "model_name": "LayoutModel",
      "state": {
       "_model_module": "@jupyter-widgets/base",
       "_model_module_version": "1.2.0",
       "_model_name": "LayoutModel",
       "_view_count": null,
       "_view_module": "@jupyter-widgets/base",
       "_view_module_version": "1.2.0",
       "_view_name": "LayoutView",
       "align_content": null,
       "align_items": null,
       "align_self": null,
       "border": null,
       "bottom": null,
       "display": null,
       "flex": null,
       "flex_flow": null,
       "grid_area": null,
       "grid_auto_columns": null,
       "grid_auto_flow": null,
       "grid_auto_rows": null,
       "grid_column": null,
       "grid_gap": null,
       "grid_row": null,
       "grid_template_areas": null,
       "grid_template_columns": null,
       "grid_template_rows": null,
       "height": null,
       "justify_content": null,
       "justify_items": null,
       "left": null,
       "margin": null,
       "max_height": null,
       "max_width": null,
       "min_height": null,
       "min_width": null,
       "object_fit": null,
       "object_position": null,
       "order": null,
       "overflow": null,
       "overflow_x": null,
       "overflow_y": null,
       "padding": null,
       "right": null,
       "top": null,
       "visibility": null,
       "width": null
      }
     },
     "9c9c6919dd984985b341964cf5b86369": {
      "model_module": "@jupyter-widgets/base",
      "model_module_version": "1.2.0",
      "model_name": "LayoutModel",
      "state": {
       "_model_module": "@jupyter-widgets/base",
       "_model_module_version": "1.2.0",
       "_model_name": "LayoutModel",
       "_view_count": null,
       "_view_module": "@jupyter-widgets/base",
       "_view_module_version": "1.2.0",
       "_view_name": "LayoutView",
       "align_content": null,
       "align_items": null,
       "align_self": null,
       "border": null,
       "bottom": null,
       "display": null,
       "flex": null,
       "flex_flow": null,
       "grid_area": null,
       "grid_auto_columns": null,
       "grid_auto_flow": null,
       "grid_auto_rows": null,
       "grid_column": null,
       "grid_gap": null,
       "grid_row": null,
       "grid_template_areas": null,
       "grid_template_columns": null,
       "grid_template_rows": null,
       "height": null,
       "justify_content": null,
       "justify_items": null,
       "left": null,
       "margin": null,
       "max_height": null,
       "max_width": null,
       "min_height": null,
       "min_width": null,
       "object_fit": null,
       "object_position": null,
       "order": null,
       "overflow": null,
       "overflow_x": null,
       "overflow_y": null,
       "padding": null,
       "right": null,
       "top": null,
       "visibility": null,
       "width": null
      }
     },
     "a923a70e79ae4e02bb471991bdddb9a7": {
      "model_module": "@jupyter-widgets/controls",
      "model_module_version": "1.5.0",
      "model_name": "ProgressStyleModel",
      "state": {
       "_model_module": "@jupyter-widgets/controls",
       "_model_module_version": "1.5.0",
       "_model_name": "ProgressStyleModel",
       "_view_count": null,
       "_view_module": "@jupyter-widgets/base",
       "_view_module_version": "1.2.0",
       "_view_name": "StyleView",
       "bar_color": null,
       "description_width": ""
      }
     },
     "ab6c6bef498f4bc7bcf59dbe13469d7d": {
      "model_module": "@jupyter-widgets/controls",
      "model_module_version": "1.5.0",
      "model_name": "FloatProgressModel",
      "state": {
       "_dom_classes": [],
       "_model_module": "@jupyter-widgets/controls",
       "_model_module_version": "1.5.0",
       "_model_name": "FloatProgressModel",
       "_view_count": null,
       "_view_module": "@jupyter-widgets/controls",
       "_view_module_version": "1.5.0",
       "_view_name": "ProgressView",
       "bar_style": "success",
       "description": "",
       "description_tooltip": null,
       "layout": "IPY_MODEL_1c857dd4286e40f0ae5d601d255bb2af",
       "max": 2464616,
       "min": 0,
       "orientation": "horizontal",
       "style": "IPY_MODEL_0e40f527ebb3440d9edf77f39bb1f6c4",
       "value": 2464616
      }
     },
     "b2b98dfac4b443878408333b81bfe310": {
      "model_module": "@jupyter-widgets/controls",
      "model_module_version": "1.5.0",
      "model_name": "HTMLModel",
      "state": {
       "_dom_classes": [],
       "_model_module": "@jupyter-widgets/controls",
       "_model_module_version": "1.5.0",
       "_model_name": "HTMLModel",
       "_view_count": null,
       "_view_module": "@jupyter-widgets/controls",
       "_view_module_version": "1.5.0",
       "_view_name": "HTMLView",
       "description": "",
       "description_tooltip": null,
       "layout": "IPY_MODEL_d8d0e1affa1f47748140003e5bbfb672",
       "placeholder": "​",
       "style": "IPY_MODEL_67c6f0d2da844534ad6390f9e03b8f92",
       "value": " 579/579 [00:00&lt;00:00, 53.3kB/s]"
      }
     },
     "c3cb9306c52447dc885335282df8eb08": {
      "model_module": "@jupyter-widgets/base",
      "model_module_version": "1.2.0",
      "model_name": "LayoutModel",
      "state": {
       "_model_module": "@jupyter-widgets/base",
       "_model_module_version": "1.2.0",
       "_model_name": "LayoutModel",
       "_view_count": null,
       "_view_module": "@jupyter-widgets/base",
       "_view_module_version": "1.2.0",
       "_view_name": "LayoutView",
       "align_content": null,
       "align_items": null,
       "align_self": null,
       "border": null,
       "bottom": null,
       "display": null,
       "flex": null,
       "flex_flow": null,
       "grid_area": null,
       "grid_auto_columns": null,
       "grid_auto_flow": null,
       "grid_auto_rows": null,
       "grid_column": null,
       "grid_gap": null,
       "grid_row": null,
       "grid_template_areas": null,
       "grid_template_columns": null,
       "grid_template_rows": null,
       "height": null,
       "justify_content": null,
       "justify_items": null,
       "left": null,
       "margin": null,
       "max_height": null,
       "max_width": null,
       "min_height": null,
       "min_width": null,
       "object_fit": null,
       "object_position": null,
       "order": null,
       "overflow": null,
       "overflow_x": null,
       "overflow_y": null,
       "padding": null,
       "right": null,
       "top": null,
       "visibility": null,
       "width": null
      }
     },
     "c49b22e81243461fad16ffac5ed60e6a": {
      "model_module": "@jupyter-widgets/controls",
      "model_module_version": "1.5.0",
      "model_name": "FloatProgressModel",
      "state": {
       "_dom_classes": [],
       "_model_module": "@jupyter-widgets/controls",
       "_model_module_version": "1.5.0",
       "_model_name": "FloatProgressModel",
       "_view_count": null,
       "_view_module": "@jupyter-widgets/controls",
       "_view_module_version": "1.5.0",
       "_view_name": "ProgressView",
       "bar_style": "success",
       "description": "",
       "description_tooltip": null,
       "layout": "IPY_MODEL_d3d39ba5c33e42fc8004f326e7734e33",
       "max": 579,
       "min": 0,
       "orientation": "horizontal",
       "style": "IPY_MODEL_a923a70e79ae4e02bb471991bdddb9a7",
       "value": 579
      }
     },
     "caf80c50f2664e90ad178de84317bb75": {
      "model_module": "@jupyter-widgets/base",
      "model_module_version": "1.2.0",
      "model_name": "LayoutModel",
      "state": {
       "_model_module": "@jupyter-widgets/base",
       "_model_module_version": "1.2.0",
       "_model_name": "LayoutModel",
       "_view_count": null,
       "_view_module": "@jupyter-widgets/base",
       "_view_module_version": "1.2.0",
       "_view_name": "LayoutView",
       "align_content": null,
       "align_items": null,
       "align_self": null,
       "border": null,
       "bottom": null,
       "display": null,
       "flex": null,
       "flex_flow": null,
       "grid_area": null,
       "grid_auto_columns": null,
       "grid_auto_flow": null,
       "grid_auto_rows": null,
       "grid_column": null,
       "grid_gap": null,
       "grid_row": null,
       "grid_template_areas": null,
       "grid_template_columns": null,
       "grid_template_rows": null,
       "height": null,
       "justify_content": null,
       "justify_items": null,
       "left": null,
       "margin": null,
       "max_height": null,
       "max_width": null,
       "min_height": null,
       "min_width": null,
       "object_fit": null,
       "object_position": null,
       "order": null,
       "overflow": null,
       "overflow_x": null,
       "overflow_y": null,
       "padding": null,
       "right": null,
       "top": null,
       "visibility": null,
       "width": null
      }
     },
     "d19f928621324169a99e82d55692fb43": {
      "model_module": "@jupyter-widgets/controls",
      "model_module_version": "1.5.0",
      "model_name": "DescriptionStyleModel",
      "state": {
       "_model_module": "@jupyter-widgets/controls",
       "_model_module_version": "1.5.0",
       "_model_name": "DescriptionStyleModel",
       "_view_count": null,
       "_view_module": "@jupyter-widgets/base",
       "_view_module_version": "1.2.0",
       "_view_name": "StyleView",
       "description_width": ""
      }
     },
     "d36bfbde420c45c38966c7a85414402e": {
      "model_module": "@jupyter-widgets/base",
      "model_module_version": "1.2.0",
      "model_name": "LayoutModel",
      "state": {
       "_model_module": "@jupyter-widgets/base",
       "_model_module_version": "1.2.0",
       "_model_name": "LayoutModel",
       "_view_count": null,
       "_view_module": "@jupyter-widgets/base",
       "_view_module_version": "1.2.0",
       "_view_name": "LayoutView",
       "align_content": null,
       "align_items": null,
       "align_self": null,
       "border": null,
       "bottom": null,
       "display": null,
       "flex": null,
       "flex_flow": null,
       "grid_area": null,
       "grid_auto_columns": null,
       "grid_auto_flow": null,
       "grid_auto_rows": null,
       "grid_column": null,
       "grid_gap": null,
       "grid_row": null,
       "grid_template_areas": null,
       "grid_template_columns": null,
       "grid_template_rows": null,
       "height": null,
       "justify_content": null,
       "justify_items": null,
       "left": null,
       "margin": null,
       "max_height": null,
       "max_width": null,
       "min_height": null,
       "min_width": null,
       "object_fit": null,
       "object_position": null,
       "order": null,
       "overflow": null,
       "overflow_x": null,
       "overflow_y": null,
       "padding": null,
       "right": null,
       "top": null,
       "visibility": null,
       "width": null
      }
     },
     "d3d39ba5c33e42fc8004f326e7734e33": {
      "model_module": "@jupyter-widgets/base",
      "model_module_version": "1.2.0",
      "model_name": "LayoutModel",
      "state": {
       "_model_module": "@jupyter-widgets/base",
       "_model_module_version": "1.2.0",
       "_model_name": "LayoutModel",
       "_view_count": null,
       "_view_module": "@jupyter-widgets/base",
       "_view_module_version": "1.2.0",
       "_view_name": "LayoutView",
       "align_content": null,
       "align_items": null,
       "align_self": null,
       "border": null,
       "bottom": null,
       "display": null,
       "flex": null,
       "flex_flow": null,
       "grid_area": null,
       "grid_auto_columns": null,
       "grid_auto_flow": null,
       "grid_auto_rows": null,
       "grid_column": null,
       "grid_gap": null,
       "grid_row": null,
       "grid_template_areas": null,
       "grid_template_columns": null,
       "grid_template_rows": null,
       "height": null,
       "justify_content": null,
       "justify_items": null,
       "left": null,
       "margin": null,
       "max_height": null,
       "max_width": null,
       "min_height": null,
       "min_width": null,
       "object_fit": null,
       "object_position": null,
       "order": null,
       "overflow": null,
       "overflow_x": null,
       "overflow_y": null,
       "padding": null,
       "right": null,
       "top": null,
       "visibility": null,
       "width": null
      }
     },
     "d57b77f9af0647168a41791d1bb5d4ba": {
      "model_module": "@jupyter-widgets/controls",
      "model_module_version": "1.5.0",
      "model_name": "HBoxModel",
      "state": {
       "_dom_classes": [],
       "_model_module": "@jupyter-widgets/controls",
       "_model_module_version": "1.5.0",
       "_model_name": "HBoxModel",
       "_view_count": null,
       "_view_module": "@jupyter-widgets/controls",
       "_view_module_version": "1.5.0",
       "_view_name": "HBoxView",
       "box_style": "",
       "children": [
        "IPY_MODEL_ef1f663d23c445e89285c932eb093f4f",
        "IPY_MODEL_e33de1d1c34a4eaa91b7c99fab87376d",
        "IPY_MODEL_e65e55a5ae34464da4b4d16eafaba51c"
       ],
       "layout": "IPY_MODEL_caf80c50f2664e90ad178de84317bb75"
      }
     },
     "d651fc95da8845f2ac293ce1c397c9c1": {
      "model_module": "@jupyter-widgets/base",
      "model_module_version": "1.2.0",
      "model_name": "LayoutModel",
      "state": {
       "_model_module": "@jupyter-widgets/base",
       "_model_module_version": "1.2.0",
       "_model_name": "LayoutModel",
       "_view_count": null,
       "_view_module": "@jupyter-widgets/base",
       "_view_module_version": "1.2.0",
       "_view_name": "LayoutView",
       "align_content": null,
       "align_items": null,
       "align_self": null,
       "border": null,
       "bottom": null,
       "display": null,
       "flex": null,
       "flex_flow": null,
       "grid_area": null,
       "grid_auto_columns": null,
       "grid_auto_flow": null,
       "grid_auto_rows": null,
       "grid_column": null,
       "grid_gap": null,
       "grid_row": null,
       "grid_template_areas": null,
       "grid_template_columns": null,
       "grid_template_rows": null,
       "height": null,
       "justify_content": null,
       "justify_items": null,
       "left": null,
       "margin": null,
       "max_height": null,
       "max_width": null,
       "min_height": null,
       "min_width": null,
       "object_fit": null,
       "object_position": null,
       "order": null,
       "overflow": null,
       "overflow_x": null,
       "overflow_y": null,
       "padding": null,
       "right": null,
       "top": null,
       "visibility": null,
       "width": null
      }
     },
     "d8d0e1affa1f47748140003e5bbfb672": {
      "model_module": "@jupyter-widgets/base",
      "model_module_version": "1.2.0",
      "model_name": "LayoutModel",
      "state": {
       "_model_module": "@jupyter-widgets/base",
       "_model_module_version": "1.2.0",
       "_model_name": "LayoutModel",
       "_view_count": null,
       "_view_module": "@jupyter-widgets/base",
       "_view_module_version": "1.2.0",
       "_view_name": "LayoutView",
       "align_content": null,
       "align_items": null,
       "align_self": null,
       "border": null,
       "bottom": null,
       "display": null,
       "flex": null,
       "flex_flow": null,
       "grid_area": null,
       "grid_auto_columns": null,
       "grid_auto_flow": null,
       "grid_auto_rows": null,
       "grid_column": null,
       "grid_gap": null,
       "grid_row": null,
       "grid_template_areas": null,
       "grid_template_columns": null,
       "grid_template_rows": null,
       "height": null,
       "justify_content": null,
       "justify_items": null,
       "left": null,
       "margin": null,
       "max_height": null,
       "max_width": null,
       "min_height": null,
       "min_width": null,
       "object_fit": null,
       "object_position": null,
       "order": null,
       "overflow": null,
       "overflow_x": null,
       "overflow_y": null,
       "padding": null,
       "right": null,
       "top": null,
       "visibility": null,
       "width": null
      }
     },
     "dd8fe9aadda4422dbcdfa125323a8a14": {
      "model_module": "@jupyter-widgets/controls",
      "model_module_version": "1.5.0",
      "model_name": "HTMLModel",
      "state": {
       "_dom_classes": [],
       "_model_module": "@jupyter-widgets/controls",
       "_model_module_version": "1.5.0",
       "_model_name": "HTMLModel",
       "_view_count": null,
       "_view_module": "@jupyter-widgets/controls",
       "_view_module_version": "1.5.0",
       "_view_name": "HTMLView",
       "description": "",
       "description_tooltip": null,
       "layout": "IPY_MODEL_c3cb9306c52447dc885335282df8eb08",
       "placeholder": "​",
       "style": "IPY_MODEL_0dc776205d1d4f148c900a44f55b2c6a",
       "value": " 52.0/52.0 [00:00&lt;00:00, 4.26kB/s]"
      }
     },
     "e05b8751b81e4bb685f96daf712bd14f": {
      "model_module": "@jupyter-widgets/controls",
      "model_module_version": "1.5.0",
      "model_name": "HTMLModel",
      "state": {
       "_dom_classes": [],
       "_model_module": "@jupyter-widgets/controls",
       "_model_module_version": "1.5.0",
       "_model_name": "HTMLModel",
       "_view_count": null,
       "_view_module": "@jupyter-widgets/controls",
       "_view_module_version": "1.5.0",
       "_view_name": "HTMLView",
       "description": "",
       "description_tooltip": null,
       "layout": "IPY_MODEL_1407643afc5e4592bed3bb2766ed639d",
       "placeholder": "​",
       "style": "IPY_MODEL_fe2de399da59496ba882c60ed8ca5fc4",
       "value": "config.json: 100%"
      }
     },
     "e33de1d1c34a4eaa91b7c99fab87376d": {
      "model_module": "@jupyter-widgets/controls",
      "model_module_version": "1.5.0",
      "model_name": "FloatProgressModel",
      "state": {
       "_dom_classes": [],
       "_model_module": "@jupyter-widgets/controls",
       "_model_module_version": "1.5.0",
       "_model_name": "FloatProgressModel",
       "_view_count": null,
       "_view_module": "@jupyter-widgets/controls",
       "_view_module_version": "1.5.0",
       "_view_name": "ProgressView",
       "bar_style": "success",
       "description": "",
       "description_tooltip": null,
       "layout": "IPY_MODEL_403579cef73a43c0bd1f16faa93d545b",
       "max": 371146213,
       "min": 0,
       "orientation": "horizontal",
       "style": "IPY_MODEL_18f14eb3b92e472a8716d55694fa250f",
       "value": 371146213
      }
     },
     "e5815b33bdd642caa3623858e8981f0b": {
      "model_module": "@jupyter-widgets/controls",
      "model_module_version": "1.5.0",
      "model_name": "DescriptionStyleModel",
      "state": {
       "_model_module": "@jupyter-widgets/controls",
       "_model_module_version": "1.5.0",
       "_model_name": "DescriptionStyleModel",
       "_view_count": null,
       "_view_module": "@jupyter-widgets/base",
       "_view_module_version": "1.2.0",
       "_view_name": "StyleView",
       "description_width": ""
      }
     },
     "e65e55a5ae34464da4b4d16eafaba51c": {
      "model_module": "@jupyter-widgets/controls",
      "model_module_version": "1.5.0",
      "model_name": "HTMLModel",
      "state": {
       "_dom_classes": [],
       "_model_module": "@jupyter-widgets/controls",
       "_model_module_version": "1.5.0",
       "_model_name": "HTMLModel",
       "_view_count": null,
       "_view_module": "@jupyter-widgets/controls",
       "_view_module_version": "1.5.0",
       "_view_name": "HTMLView",
       "description": "",
       "description_tooltip": null,
       "layout": "IPY_MODEL_8bad68d36a654231bb402649219acb1a",
       "placeholder": "​",
       "style": "IPY_MODEL_3a0f5fb027a44fa98b4e114590a0775f",
       "value": " 371M/371M [00:01&lt;00:00, 208MB/s]"
      }
     },
     "ef1f663d23c445e89285c932eb093f4f": {
      "model_module": "@jupyter-widgets/controls",
      "model_module_version": "1.5.0",
      "model_name": "HTMLModel",
      "state": {
       "_dom_classes": [],
       "_model_module": "@jupyter-widgets/controls",
       "_model_module_version": "1.5.0",
       "_model_name": "HTMLModel",
       "_view_count": null,
       "_view_module": "@jupyter-widgets/controls",
       "_view_module_version": "1.5.0",
       "_view_name": "HTMLView",
       "description": "",
       "description_tooltip": null,
       "layout": "IPY_MODEL_f58626ddef5b4c03ba139277d4c3045b",
       "placeholder": "​",
       "style": "IPY_MODEL_e5815b33bdd642caa3623858e8981f0b",
       "value": "pytorch_model.bin: 100%"
      }
     },
     "f02b58197666494ca2e0221718324dbd": {
      "model_module": "@jupyter-widgets/controls",
      "model_module_version": "1.5.0",
      "model_name": "DescriptionStyleModel",
      "state": {
       "_model_module": "@jupyter-widgets/controls",
       "_model_module_version": "1.5.0",
       "_model_name": "DescriptionStyleModel",
       "_view_count": null,
       "_view_module": "@jupyter-widgets/base",
       "_view_module_version": "1.2.0",
       "_view_name": "StyleView",
       "description_width": ""
      }
     },
     "f58626ddef5b4c03ba139277d4c3045b": {
      "model_module": "@jupyter-widgets/base",
      "model_module_version": "1.2.0",
      "model_name": "LayoutModel",
      "state": {
       "_model_module": "@jupyter-widgets/base",
       "_model_module_version": "1.2.0",
       "_model_name": "LayoutModel",
       "_view_count": null,
       "_view_module": "@jupyter-widgets/base",
       "_view_module_version": "1.2.0",
       "_view_name": "LayoutView",
       "align_content": null,
       "align_items": null,
       "align_self": null,
       "border": null,
       "bottom": null,
       "display": null,
       "flex": null,
       "flex_flow": null,
       "grid_area": null,
       "grid_auto_columns": null,
       "grid_auto_flow": null,
       "grid_auto_rows": null,
       "grid_column": null,
       "grid_gap": null,
       "grid_row": null,
       "grid_template_areas": null,
       "grid_template_columns": null,
       "grid_template_rows": null,
       "height": null,
       "justify_content": null,
       "justify_items": null,
       "left": null,
       "margin": null,
       "max_height": null,
       "max_width": null,
       "min_height": null,
       "min_width": null,
       "object_fit": null,
       "object_position": null,
       "order": null,
       "overflow": null,
       "overflow_x": null,
       "overflow_y": null,
       "padding": null,
       "right": null,
       "top": null,
       "visibility": null,
       "width": null
      }
     },
     "fe2de399da59496ba882c60ed8ca5fc4": {
      "model_module": "@jupyter-widgets/controls",
      "model_module_version": "1.5.0",
      "model_name": "DescriptionStyleModel",
      "state": {
       "_model_module": "@jupyter-widgets/controls",
       "_model_module_version": "1.5.0",
       "_model_name": "DescriptionStyleModel",
       "_view_count": null,
       "_view_module": "@jupyter-widgets/base",
       "_view_module_version": "1.2.0",
       "_view_name": "StyleView",
       "description_width": ""
      }
     }
    },
    "version_major": 2,
    "version_minor": 0
   }
  }
 },
 "nbformat": 4,
 "nbformat_minor": 5
}
