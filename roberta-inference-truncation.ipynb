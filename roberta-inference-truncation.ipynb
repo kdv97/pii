{
 "cells": [
  {
   "cell_type": "markdown",
   "metadata": {},
   "source": [
    "# RoBERTa Inference Notebook for Truncation\n",
    "This notebook serves as the main runfile for making inferences on RoBERTa models using truncation. The parameters that can be changed are the threshold for determining if something is a non-PII or not. Otherwise, make sure to import the correct model path for the most updated RoBERTa truncation model\n",
    "\n",
    "Note that we tested models by making inferences and submitting these inferences to kaggle for scoring."
   ]
  },
  {
   "cell_type": "code",
   "execution_count": null,
   "metadata": {
    "_cell_guid": "b1076dfc-b9ad-4769-8c92-a6c4dae69d19",
    "_uuid": "8f2839f25d086af736a60e9eeb907d3b93b6e0e5",
    "execution": {
     "iopub.execute_input": "2024-05-02T19:30:01.444559Z",
     "iopub.status.busy": "2024-05-02T19:30:01.444155Z",
     "iopub.status.idle": "2024-05-02T19:30:03.054184Z",
     "shell.execute_reply": "2024-05-02T19:30:03.052770Z",
     "shell.execute_reply.started": "2024-05-02T19:30:01.444524Z"
    }
   },
   "outputs": [],
   "source": [
    "# This Python 3 environment comes with many helpful analytics libraries installed\n",
    "# It is defined by the kaggle/python Docker image: https://github.com/kaggle/docker-python\n",
    "# For example, here's several helpful packages to load\n",
    "\n",
    "import numpy as np # linear algebra\n",
    "import pandas as pd # data processing, CSV file I/O (e.g. pd.read_csv)\n",
    "\n",
    "# Input data files are available in the read-only \"../input/\" directory\n",
    "# For example, running this (by clicking run or pressing Shift+Enter) will list all files under the input directory\n",
    "\n",
    "import os\n",
    "for dirname, _, filenames in os.walk('/kaggle/input'):\n",
    "    for filename in filenames:\n",
    "        print(os.path.join(dirname, filename))\n",
    "\n",
    "# You can write up to 20GB to the current directory (/kaggle/working/) that gets preserved as output when you create a version using \"Save & Run All\" \n",
    "# You can also write temporary files to /kaggle/temp/, but they won't be saved outside of the current session"
   ]
  },
  {
   "cell_type": "code",
   "execution_count": null,
   "metadata": {
    "execution": {
     "iopub.execute_input": "2024-05-02T19:30:03.057174Z",
     "iopub.status.busy": "2024-05-02T19:30:03.056357Z",
     "iopub.status.idle": "2024-05-02T19:30:03.061656Z",
     "shell.execute_reply": "2024-05-02T19:30:03.060792Z",
     "shell.execute_reply.started": "2024-05-02T19:30:03.057139Z"
    }
   },
   "outputs": [],
   "source": [
    "INFERENCE_MAX_LENGTH = 512\n",
    "model_path = '/kaggle/input/deberta-model-truncation/roberta_opttrunc'"
   ]
  },
  {
   "cell_type": "code",
   "execution_count": null,
   "metadata": {
    "execution": {
     "iopub.execute_input": "2024-05-02T19:30:03.063758Z",
     "iopub.status.busy": "2024-05-02T19:30:03.062969Z",
     "iopub.status.idle": "2024-05-02T19:30:28.318339Z",
     "shell.execute_reply": "2024-05-02T19:30:28.316782Z",
     "shell.execute_reply.started": "2024-05-02T19:30:03.063725Z"
    }
   },
   "outputs": [],
   "source": [
    "import json\n",
    "import argparse\n",
    "from itertools import chain\n",
    "import pandas as pd\n",
    "from pathlib import Path\n",
    "from transformers import AutoTokenizer, AutoModelForTokenClassification, Trainer, TrainingArguments, DataCollatorForTokenClassification\n",
    "from datasets import Dataset\n",
    "import numpy as np"
   ]
  },
  {
   "cell_type": "code",
   "execution_count": null,
   "metadata": {
    "execution": {
     "iopub.execute_input": "2024-05-02T19:30:28.322095Z",
     "iopub.status.busy": "2024-05-02T19:30:28.321272Z",
     "iopub.status.idle": "2024-05-02T19:30:28.340252Z",
     "shell.execute_reply": "2024-05-02T19:30:28.339063Z",
     "shell.execute_reply.started": "2024-05-02T19:30:28.322056Z"
    }
   },
   "outputs": [],
   "source": [
    "data = json.load(open(\"/kaggle/input/pii-detection-removal-from-educational-data/test.json\"))\n",
    "df_test = pd.DataFrame(data)"
   ]
  },
  {
   "cell_type": "code",
   "execution_count": null,
   "metadata": {},
   "outputs": [],
   "source": [
    "# Tokenize and truncate"
   ]
  },
  {
   "cell_type": "code",
   "execution_count": null,
   "metadata": {
    "execution": {
     "iopub.execute_input": "2024-05-02T19:30:28.342243Z",
     "iopub.status.busy": "2024-05-02T19:30:28.341893Z",
     "iopub.status.idle": "2024-05-02T19:30:28.354071Z",
     "shell.execute_reply": "2024-05-02T19:30:28.352850Z",
     "shell.execute_reply.started": "2024-05-02T19:30:28.342215Z"
    }
   },
   "outputs": [],
   "source": [
    "def reconstruct(batch): \n",
    "    text = []\n",
    "    token_map = []\n",
    "    \n",
    "    idx = 0\n",
    "    \n",
    "    for t, ws in zip(batch[\"tokens\"], batch[\"trailing_whitespace\"]):\n",
    "    \n",
    "        text.append(t)\n",
    "        token_map.extend([idx]*len(t))\n",
    "        if ws:\n",
    "            text.append(\" \")\n",
    "            token_map.append(-1)\n",
    "        \n",
    "        idx += 1\n",
    "            \n",
    "                \n",
    "    return text, token_map\n",
    "\n",
    "def tokenize(batch, tokenizer):\n",
    "    \n",
    "    text,token_map = reconstruct(batch)\n",
    "    tokenized = tokenizer(\"\".join(text), return_offsets_mapping=True, truncation=False, max_length=INFERENCE_MAX_LENGTH)\n",
    "    \n",
    "    # TRUNCATE: VARIOUS CUTOFFS\n",
    "    # LINE 1: SAME CUTOFF AS TRAINING (MODULO DIFFERENT LENGTH)\n",
    "    # LINE 2: BEST CUTOFF FOR INFERENCE_MAX_LENGTH\n",
    "    length = len(tokenized.input_ids)\n",
    "    if (length > INFERENCE_MAX_LENGTH):\n",
    "        for k,v in tokenized.items():\n",
    "            tokenized[k] = v[:121] + v[-(INFERENCE_MAX_LENGTH - 121):]    \n",
    "\n",
    "    return tokenized.input_ids, tokenized.attention_mask, tokenized.offset_mapping, token_map"
   ]
  },
  {
   "cell_type": "code",
   "execution_count": null,
   "metadata": {
    "execution": {
     "iopub.execute_input": "2024-05-02T19:30:28.355944Z",
     "iopub.status.busy": "2024-05-02T19:30:28.355472Z",
     "iopub.status.idle": "2024-05-02T19:30:29.052356Z",
     "shell.execute_reply": "2024-05-02T19:30:29.051020Z",
     "shell.execute_reply.started": "2024-05-02T19:30:28.355909Z"
    }
   },
   "outputs": [],
   "source": [
    "tokenizer = AutoTokenizer.from_pretrained(model_path)\n",
    "df_test[['input_ids', 'attention_mask', 'offset_mapping', 'token_map']] = df_test.apply(lambda row: tokenize(row, tokenizer), axis='columns', result_type='expand')"
   ]
  },
  {
   "cell_type": "markdown",
   "metadata": {},
   "source": [
    "# Make Predictions"
   ]
  },
  {
   "cell_type": "code",
   "execution_count": null,
   "metadata": {
    "execution": {
     "iopub.execute_input": "2024-05-02T19:30:29.054188Z",
     "iopub.status.busy": "2024-05-02T19:30:29.053795Z",
     "iopub.status.idle": "2024-05-02T19:30:29.154468Z",
     "shell.execute_reply": "2024-05-02T19:30:29.152407Z",
     "shell.execute_reply.started": "2024-05-02T19:30:29.054156Z"
    }
   },
   "outputs": [],
   "source": [
    "ds =  Dataset.from_pandas(df_test)"
   ]
  },
  {
   "cell_type": "code",
   "execution_count": null,
   "metadata": {
    "execution": {
     "iopub.execute_input": "2024-05-02T19:30:29.157106Z",
     "iopub.status.busy": "2024-05-02T19:30:29.156276Z",
     "iopub.status.idle": "2024-05-02T19:30:34.207399Z",
     "shell.execute_reply": "2024-05-02T19:30:34.205487Z",
     "shell.execute_reply.started": "2024-05-02T19:30:29.157053Z"
    }
   },
   "outputs": [],
   "source": [
    "model = AutoModelForTokenClassification.from_pretrained(model_path)\n",
    "collator = DataCollatorForTokenClassification(tokenizer, pad_to_multiple_of=16)\n",
    "args = TrainingArguments(\n",
    "    \".\", \n",
    "    per_device_eval_batch_size=1, \n",
    "    report_to=\"none\",\n",
    ")\n",
    "trainer = Trainer(\n",
    "    model=model, \n",
    "    args=args, \n",
    "    data_collator=collator, \n",
    "    tokenizer=tokenizer,\n",
    ")"
   ]
  },
  {
   "cell_type": "code",
   "execution_count": null,
   "metadata": {
    "execution": {
     "iopub.execute_input": "2024-05-02T19:30:34.212159Z",
     "iopub.status.busy": "2024-05-02T19:30:34.210211Z",
     "iopub.status.idle": "2024-05-02T19:31:18.381382Z",
     "shell.execute_reply": "2024-05-02T19:31:18.380129Z",
     "shell.execute_reply.started": "2024-05-02T19:30:34.212116Z"
    }
   },
   "outputs": [],
   "source": [
    "predictions = trainer.predict(ds).predictions\n",
    "pred_softmax = np.exp(predictions) / np.sum(np.exp(predictions), axis = 2).reshape(predictions.shape[0],predictions.shape[1],1)\n",
    "\n",
    "config = json.load(open(Path(model_path) / \"config.json\"))\n",
    "id2label = config[\"id2label\"]\n",
    "preds = predictions.argmax(-1)\n",
    "preds_without_O = pred_softmax[:,:,:12].argmax(-1)\n",
    "O_preds = pred_softmax[:,:,12]\n",
    "\n",
    "threshold = 0.9\n",
    "preds_final = np.where(O_preds < threshold, preds_without_O , preds)"
   ]
  },
  {
   "cell_type": "code",
   "execution_count": null,
   "metadata": {
    "execution": {
     "iopub.execute_input": "2024-05-02T19:31:18.384750Z",
     "iopub.status.busy": "2024-05-02T19:31:18.384399Z",
     "iopub.status.idle": "2024-05-02T19:31:18.503983Z",
     "shell.execute_reply": "2024-05-02T19:31:18.501723Z",
     "shell.execute_reply.started": "2024-05-02T19:31:18.384721Z"
    }
   },
   "outputs": [],
   "source": [
    "triplets = []\n",
    "document, token, label, token_str = [], [], [], []\n",
    "for p, token_map, offsets, tokens, doc in zip(preds_final, ds[\"token_map\"], ds[\"offset_mapping\"], ds[\"tokens\"], ds[\"document\"]):\n",
    "\n",
    "    for token_pred, (start_idx, end_idx) in zip(p, offsets):\n",
    "        label_pred = id2label[str(token_pred)]\n",
    "\n",
    "        if start_idx + end_idx == 0: continue\n",
    "\n",
    "        if token_map[start_idx] == -1:\n",
    "            start_idx += 1\n",
    "\n",
    "        # ignore \"\\n\\n\"\n",
    "        while start_idx < len(token_map) and tokens[token_map[start_idx]].isspace():\n",
    "            start_idx += 1\n",
    "\n",
    "        if start_idx >= len(token_map): break\n",
    "\n",
    "        token_id = token_map[start_idx]\n",
    "\n",
    "        # ignore \"O\" predictions and whitespace preds\n",
    "        if label_pred != \"O\" and token_id != -1:\n",
    "            triplet = (label_pred, token_id, tokens[token_id])\n",
    "\n",
    "            if triplet not in triplets:\n",
    "                document.append(doc)\n",
    "                token.append(token_id)\n",
    "                label.append(label_pred)\n",
    "                token_str.append(tokens[token_id])\n",
    "                triplets.append(triplet)"
   ]
  },
  {
   "cell_type": "markdown",
   "metadata": {
    "execution": {
     "iopub.execute_input": "2024-04-30T02:08:48.681877Z",
     "iopub.status.busy": "2024-04-30T02:08:48.681371Z",
     "iopub.status.idle": "2024-04-30T02:08:48.690567Z",
     "shell.execute_reply": "2024-04-30T02:08:48.689223Z",
     "shell.execute_reply.started": "2024-04-30T02:08:48.681839Z"
    }
   },
   "source": [
    "# Prepare Submission"
   ]
  },
  {
   "cell_type": "code",
   "execution_count": null,
   "metadata": {
    "execution": {
     "iopub.execute_input": "2024-05-02T19:31:18.507322Z",
     "iopub.status.busy": "2024-05-02T19:31:18.506900Z",
     "iopub.status.idle": "2024-05-02T19:31:18.532569Z",
     "shell.execute_reply": "2024-05-02T19:31:18.531175Z",
     "shell.execute_reply.started": "2024-05-02T19:31:18.507280Z"
    }
   },
   "outputs": [],
   "source": [
    "df = pd.DataFrame({\n",
    "    \"document\": document,\n",
    "    \"token\": token,\n",
    "    \"label\": label,\n",
    "    \"token_str\": token_str\n",
    "})\n",
    "df[\"row_id\"] = list(range(len(df)))\n",
    "display(df.head(100))"
   ]
  },
  {
   "cell_type": "code",
   "execution_count": null,
   "metadata": {
    "execution": {
     "iopub.execute_input": "2024-05-02T19:31:18.535021Z",
     "iopub.status.busy": "2024-05-02T19:31:18.534612Z",
     "iopub.status.idle": "2024-05-02T19:31:18.553616Z",
     "shell.execute_reply": "2024-05-02T19:31:18.552315Z",
     "shell.execute_reply.started": "2024-05-02T19:31:18.534980Z"
    }
   },
   "outputs": [],
   "source": [
    "df[[\"row_id\", \"document\", \"token\", \"label\"]].to_csv(\"submission.csv\", index=False)"
   ]
  },
  {
   "cell_type": "code",
   "execution_count": null,
   "metadata": {},
   "outputs": [],
   "source": []
  }
 ],
 "metadata": {
  "kaggle": {
   "accelerator": "nvidiaTeslaT4",
   "dataSources": [
    {
     "databundleVersionId": 7500999,
     "sourceId": 66653,
     "sourceType": "competition"
    },
    {
     "sourceId": 175087285,
     "sourceType": "kernelVersion"
    },
    {
     "sourceId": 175322202,
     "sourceType": "kernelVersion"
    }
   ],
   "dockerImageVersionId": 30699,
   "isGpuEnabled": true,
   "isInternetEnabled": false,
   "language": "python",
   "sourceType": "notebook"
  },
  "kernelspec": {
   "display_name": "Python 3 (ipykernel)",
   "language": "python",
   "name": "python3"
  },
  "language_info": {
   "codemirror_mode": {
    "name": "ipython",
    "version": 3
   },
   "file_extension": ".py",
   "mimetype": "text/x-python",
   "name": "python",
   "nbconvert_exporter": "python",
   "pygments_lexer": "ipython3",
   "version": "3.11.4"
  }
 },
 "nbformat": 4,
 "nbformat_minor": 4
}
